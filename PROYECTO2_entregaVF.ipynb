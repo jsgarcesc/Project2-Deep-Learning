{
  "nbformat": 4,
  "nbformat_minor": 0,
  "metadata": {
    "colab": {
      "name": "PROYECTO2_entrega.ipynb",
      "version": "0.3.2",
      "views": {},
      "default_view": {},
      "provenance": [
        {
          "file_id": "1ALatMdXBlZ6a5f7lhgJsO8tn5ntoYEv4",
          "timestamp": 1531699510842
        }
      ],
      "collapsed_sections": []
    },
    "kernelspec": {
      "name": "python3",
      "display_name": "Python 3"
    },
    "accelerator": "GPU"
  },
  "cells": [
    {
      "metadata": {
        "id": "dDIG3bfxBZnt",
        "colab_type": "text"
      },
      "cell_type": "markdown",
      "source": [
        "# Project 2\n",
        "## Image Classification with CNN\n",
        "-------------------------------\n",
        "**Integrante 1**: Ángela Patricia Ordoñez Castro...............................................**Código**:201628709\n",
        "\n",
        "**Integrante 2**: Ricardo Medina Aponte...........................................................  **Código**: 200520707\n",
        "\n",
        "**Integrante 3**: Juan Sebastián Garcés Carranza.............................................**Código**: 201628949\n",
        "\n",
        "**Integrante 4**: Andrea Carolina Parra López................................................... **Código**: 201727740"
      ]
    },
    {
      "metadata": {
        "id": "ey7AFUwN1l1n",
        "colab_type": "code",
        "colab": {
          "autoexec": {
            "startup": false,
            "wait_interval": 0
          }
        }
      },
      "cell_type": "code",
      "source": [
        "# Install the PyDrive wrapper & import libraries.\n",
        "# This only needs to be done once per notebook.\n",
        "!pip install -U -q PyDrive\n",
        "from pydrive.auth import GoogleAuth\n",
        "from pydrive.drive import GoogleDrive\n",
        "from google.colab import auth\n",
        "from oauth2client.client import GoogleCredentials\n",
        "\n",
        "# Authenticate and create the PyDrive client.\n",
        "# This only needs to 4/AACnrWrTtHgfBxYq7fKb1o44-k29ag1qeUhS5iKnPwl4UK3hWYDD-8sbe done once per notebook.\n",
        "auth.authenticate_user()\n",
        "gauth = GoogleAuth()\n",
        "gauth.credentials = GoogleCredentials.get_application_default()\n",
        "drive = GoogleDrive(gauth)"
      ],
      "execution_count": 0,
      "outputs": []
    },
    {
      "metadata": {
        "id": "uPpBXoru17AF",
        "colab_type": "text"
      },
      "cell_type": "markdown",
      "source": [
        "## 1. Direct prediction\n",
        "   * Download the dataset birds from http://www-cvr.ai.uiuc.edu/ponce_grp/data/.\n",
        "   * Use [Keras](https://keras.io/) and a CNN from Keras [Applications](https://keras.io/applications/) pretrained on ImageNet, to classify the images in the birds dataset. Construct a confusion matrix that relates the bird classes with the 10 most frequent classes from ImageNet predicted by the model.\n",
        "   * Discuss the results.\n",
        "   \n"
      ]
    },
    {
      "metadata": {
        "id": "RJb09Gmbm4bH",
        "colab_type": "text"
      },
      "cell_type": "markdown",
      "source": [
        "**Solución:**\n",
        "\n"
      ]
    },
    {
      "metadata": {
        "id": "ezNGNCAin0eV",
        "colab_type": "text"
      },
      "cell_type": "markdown",
      "source": [
        "Mediante la librería Keras, usamos el modelo precargado VGG16, con el fin de pasar inicialmente las imagenes mediante este modelo:"
      ]
    },
    {
      "metadata": {
        "id": "d_2mdILG29pC",
        "colab_type": "code",
        "colab": {
          "autoexec": {
            "startup": false,
            "wait_interval": 0
          },
          "base_uri": "https://localhost:8080/",
          "height": 68
        },
        "outputId": "f744946f-48e9-4d0e-e663-cc38871429ff",
        "executionInfo": {
          "status": "ok",
          "timestamp": 1531708758888,
          "user_tz": 300,
          "elapsed": 25041,
          "user": {
            "displayName": "andrea carolina parra lópez",
            "photoUrl": "//lh4.googleusercontent.com/-Kx8LhhSjJzM/AAAAAAAAAAI/AAAAAAAAANk/Y6doG3Y6XsI/s50-c-k-no/photo.jpg",
            "userId": "110040482315544751285"
          }
        }
      },
      "cell_type": "code",
      "source": [
        "import tensorflow as tf\n",
        "from keras.applications.vgg16 import VGG16\n",
        "from keras.preprocessing import image\n",
        "from keras.applications.vgg16 import preprocess_input\n",
        "import numpy as np\n",
        "\n",
        "model = VGG16(weights='imagenet', include_top=True)\n"
      ],
      "execution_count": 2,
      "outputs": [
        {
          "output_type": "stream",
          "text": [
            "Using TensorFlow backend.\n"
          ],
          "name": "stderr"
        },
        {
          "output_type": "stream",
          "text": [
            "Downloading data from https://github.com/fchollet/deep-learning-models/releases/download/v0.1/vgg16_weights_tf_dim_ordering_tf_kernels.h5\n",
            "553467904/553467096 [==============================] - 18s 0us/step\n"
          ],
          "name": "stdout"
        }
      ]
    },
    {
      "metadata": {
        "id": "1F6Ikq3BrUc7",
        "colab_type": "text"
      },
      "cell_type": "markdown",
      "source": [
        "Se descargan las imagenes para incluir al modelo, directamente de esta [página](http://www-cvr.ai.uiuc.edu/ponce_grp/data/birds/birds.zip), mediante el siguiente código:"
      ]
    },
    {
      "metadata": {
        "id": "MXk9LSGxoNVk",
        "colab_type": "code",
        "colab": {
          "autoexec": {
            "startup": false,
            "wait_interval": 0
          },
          "base_uri": "https://localhost:8080/",
          "height": 204
        },
        "outputId": "07800d3c-a021-4600-be75-c2d3f431e618",
        "executionInfo": {
          "status": "ok",
          "timestamp": 1531708764494,
          "user_tz": 300,
          "elapsed": 3419,
          "user": {
            "displayName": "andrea carolina parra lópez",
            "photoUrl": "//lh4.googleusercontent.com/-Kx8LhhSjJzM/AAAAAAAAAAI/AAAAAAAAANk/Y6doG3Y6XsI/s50-c-k-no/photo.jpg",
            "userId": "110040482315544751285"
          }
        }
      },
      "cell_type": "code",
      "source": [
        "!wget http://www-cvr.ai.uiuc.edu/ponce_grp/data/birds/birds.zip"
      ],
      "execution_count": 3,
      "outputs": [
        {
          "output_type": "stream",
          "text": [
            "--2018-07-16 02:39:24--  http://www-cvr.ai.uiuc.edu/ponce_grp/data/birds/birds.zip\n",
            "Resolving www-cvr.ai.uiuc.edu (www-cvr.ai.uiuc.edu)... 128.174.227.253\n",
            "Connecting to www-cvr.ai.uiuc.edu (www-cvr.ai.uiuc.edu)|128.174.227.253|:80... connected.\n",
            "HTTP request sent, awaiting response... 200 OK\n",
            "Length: 43988823 (42M) [application/zip]\n",
            "Saving to: ‘birds.zip.3’\n",
            "\n",
            "birds.zip.3         100%[===================>]  41.95M  21.9MB/s    in 1.9s    \n",
            "\n",
            "2018-07-16 02:39:26 (21.9 MB/s) - ‘birds.zip.3’ saved [43988823/43988823]\n",
            "\n"
          ],
          "name": "stdout"
        }
      ]
    },
    {
      "metadata": {
        "id": "-cX1J88NEqOG",
        "colab_type": "text"
      },
      "cell_type": "markdown",
      "source": [
        "Para revisar los elementos que se encuentran en la carpeta descargada y descomprimir la carpeta:"
      ]
    },
    {
      "metadata": {
        "id": "pUT4NBRsoQ5H",
        "colab_type": "code",
        "colab": {
          "autoexec": {
            "startup": false,
            "wait_interval": 0
          },
          "base_uri": "https://localhost:8080/",
          "height": 51
        },
        "outputId": "e26f1d9c-7095-43a3-8017-e5cda4b9315b",
        "executionInfo": {
          "status": "ok",
          "timestamp": 1531708767444,
          "user_tz": 300,
          "elapsed": 1445,
          "user": {
            "displayName": "andrea carolina parra lópez",
            "photoUrl": "//lh4.googleusercontent.com/-Kx8LhhSjJzM/AAAAAAAAAAI/AAAAAAAAANk/Y6doG3Y6XsI/s50-c-k-no/photo.jpg",
            "userId": "110040482315544751285"
          }
        }
      },
      "cell_type": "code",
      "source": [
        "!ls"
      ],
      "execution_count": 4,
      "outputs": [
        {
          "output_type": "stream",
          "text": [
            "birds.zip    birds.zip.2  C:\t   Test_X.npy\r\n",
            "birds.zip.1  birds.zip.3  datalab  Train_X.npy\r\n"
          ],
          "name": "stdout"
        }
      ]
    },
    {
      "metadata": {
        "id": "TBvUjFYA8ZeG",
        "colab_type": "code",
        "colab": {
          "autoexec": {
            "startup": false,
            "wait_interval": 0
          }
        }
      },
      "cell_type": "code",
      "source": [
        "!unzip birds.zip > /dev/null"
      ],
      "execution_count": 0,
      "outputs": []
    },
    {
      "metadata": {
        "id": "_PVnLCsN8ciZ",
        "colab_type": "code",
        "colab": {
          "autoexec": {
            "startup": false,
            "wait_interval": 0
          },
          "base_uri": "https://localhost:8080/",
          "height": 170
        },
        "outputId": "37bbd8e9-b43e-4d15-a8a5-12361ccc0d35",
        "executionInfo": {
          "status": "ok",
          "timestamp": 1531708775503,
          "user_tz": 300,
          "elapsed": 1761,
          "user": {
            "displayName": "andrea carolina parra lópez",
            "photoUrl": "//lh4.googleusercontent.com/-Kx8LhhSjJzM/AAAAAAAAAAI/AAAAAAAAANk/Y6doG3Y6XsI/s50-c-k-no/photo.jpg",
            "userId": "110040482315544751285"
          }
        }
      },
      "cell_type": "code",
      "source": [
        "!ls birds -la"
      ],
      "execution_count": 6,
      "outputs": [
        {
          "output_type": "stream",
          "text": [
            "total 36\r\n",
            "drwxr-xr-x 8 root root 4096 Mar  2  2005 .\r\n",
            "drwxr-xr-x 1 root root 4096 Jul 16 02:39 ..\r\n",
            "drwxr-xr-x 2 root root 4096 Mar  2  2005 egret\r\n",
            "drwxr-xr-x 2 root root 4096 Mar  2  2005 mandarin\r\n",
            "drwxr-xr-x 2 root root 4096 Mar  2  2005 owl\r\n",
            "drwxr-xr-x 2 root root 4096 Mar  2  2005 puffin\r\n",
            "drwxr-xr-x 2 root root 4096 Mar  2  2005 toucan\r\n",
            "drwxr-xr-x 2 root root 4096 Mar  2  2005 wood_duck\r\n"
          ],
          "name": "stdout"
        }
      ]
    },
    {
      "metadata": {
        "id": "m_vObjXuFQQQ",
        "colab_type": "text"
      },
      "cell_type": "markdown",
      "source": [
        "Dentro de la carpeta descargada se encuentran las imagenes de las aves organizadas en carpetas por especies, como se puede ver a continuación:"
      ]
    },
    {
      "metadata": {
        "id": "M7QoePtL4-yl",
        "colab_type": "code",
        "colab": {
          "autoexec": {
            "startup": false,
            "wait_interval": 0
          },
          "base_uri": "https://localhost:8080/",
          "height": 34
        },
        "outputId": "0c4dfc74-d67d-4ea1-ab9f-b537629ad6e6",
        "executionInfo": {
          "status": "ok",
          "timestamp": 1531708777433,
          "user_tz": 300,
          "elapsed": 758,
          "user": {
            "displayName": "andrea carolina parra lópez",
            "photoUrl": "//lh4.googleusercontent.com/-Kx8LhhSjJzM/AAAAAAAAAAI/AAAAAAAAANk/Y6doG3Y6XsI/s50-c-k-no/photo.jpg",
            "userId": "110040482315544751285"
          }
        }
      },
      "cell_type": "code",
      "source": [
        "import os \n",
        "fold_list = os.listdir('birds')\n",
        "fold_list"
      ],
      "execution_count": 7,
      "outputs": [
        {
          "output_type": "execute_result",
          "data": {
            "text/plain": [
              "['puffin', 'toucan', 'egret', 'wood_duck', 'owl', 'mandarin']"
            ]
          },
          "metadata": {
            "tags": []
          },
          "execution_count": 7
        }
      ]
    },
    {
      "metadata": {
        "id": "Xd8xjmnWFzjH",
        "colab_type": "text"
      },
      "cell_type": "markdown",
      "source": [
        "Con el siguiente código es posible cargar todas las imagenes de las aves independiente de la especie:"
      ]
    },
    {
      "metadata": {
        "id": "oDCSfC812lQt",
        "colab_type": "code",
        "colab": {
          "autoexec": {
            "startup": false,
            "wait_interval": 0
          },
          "base_uri": "https://localhost:8080/",
          "height": 34
        },
        "outputId": "e18076ba-7fc6-4472-f5d1-17880840b08a",
        "executionInfo": {
          "status": "ok",
          "timestamp": 1531708782164,
          "user_tz": 300,
          "elapsed": 3773,
          "user": {
            "displayName": "andrea carolina parra lópez",
            "photoUrl": "//lh4.googleusercontent.com/-Kx8LhhSjJzM/AAAAAAAAAAI/AAAAAAAAANk/Y6doG3Y6XsI/s50-c-k-no/photo.jpg",
            "userId": "110040482315544751285"
          }
        }
      },
      "cell_type": "code",
      "source": [
        "#CARGA DE IMAGENES DE PAJAROS\n",
        "fold_list = os.listdir('birds')\n",
        "\n",
        "imgs = []\n",
        "all_imgs = []\n",
        "for i in fold_list:\n",
        "  image_folder = 'birds/' + i\n",
        "  img_list = os.listdir(image_folder)\n",
        "  all_img_feats = list()\n",
        "  si = 0\n",
        "  batch_size=1000\n",
        "  for j in img_list:\n",
        "    img_path = os.path.join(image_folder, j)\n",
        "    img = image.load_img(img_path, target_size=(224, 224))\n",
        "    x = image.img_to_array(img)\n",
        "    x = np.expand_dims(x, axis=0)\n",
        "    x = preprocess_input(x)\n",
        "    imgs.append(x)\n",
        "      \n",
        "all_imgs = np.concatenate(imgs, axis=0) \n",
        "\n",
        "all_imgs.shape"
      ],
      "execution_count": 8,
      "outputs": [
        {
          "output_type": "execute_result",
          "data": {
            "text/plain": [
              "(600, 224, 224, 3)"
            ]
          },
          "metadata": {
            "tags": []
          },
          "execution_count": 8
        }
      ]
    },
    {
      "metadata": {
        "id": "n2gIjkaLomwe",
        "colab_type": "text"
      },
      "cell_type": "markdown",
      "source": [
        "Una vez cargadas las imagenes y el modelo preentrenado, hacemos una primera predicción:"
      ]
    },
    {
      "metadata": {
        "id": "j16WK6eJ7MIB",
        "colab_type": "code",
        "colab": {
          "autoexec": {
            "startup": false,
            "wait_interval": 0
          }
        }
      },
      "cell_type": "code",
      "source": [
        "#PREDICCION CON VGG16 DE TODAS LAS IMAGENES (600)\n",
        "features = model.predict(all_imgs)"
      ],
      "execution_count": 0,
      "outputs": []
    },
    {
      "metadata": {
        "id": "kVspBszk_jq-",
        "colab_type": "code",
        "colab": {
          "autoexec": {
            "startup": false,
            "wait_interval": 0
          },
          "base_uri": "https://localhost:8080/",
          "height": 34
        },
        "outputId": "ed0895ca-092f-4f5c-e9a2-445d702da6d5",
        "executionInfo": {
          "status": "ok",
          "timestamp": 1531708800376,
          "user_tz": 300,
          "elapsed": 978,
          "user": {
            "displayName": "andrea carolina parra lópez",
            "photoUrl": "//lh4.googleusercontent.com/-Kx8LhhSjJzM/AAAAAAAAAAI/AAAAAAAAANk/Y6doG3Y6XsI/s50-c-k-no/photo.jpg",
            "userId": "110040482315544751285"
          }
        }
      },
      "cell_type": "code",
      "source": [
        "features.shape"
      ],
      "execution_count": 10,
      "outputs": [
        {
          "output_type": "execute_result",
          "data": {
            "text/plain": [
              "(600, 1000)"
            ]
          },
          "metadata": {
            "tags": []
          },
          "execution_count": 10
        }
      ]
    },
    {
      "metadata": {
        "id": "9CqrAH7Yqd3P",
        "colab_type": "code",
        "colab": {
          "autoexec": {
            "startup": false,
            "wait_interval": 0
          },
          "base_uri": "https://localhost:8080/",
          "height": 34
        },
        "outputId": "cf905e5e-2c44-4c52-a254-6cc0269727eb",
        "executionInfo": {
          "status": "ok",
          "timestamp": 1531708803116,
          "user_tz": 300,
          "elapsed": 946,
          "user": {
            "displayName": "andrea carolina parra lópez",
            "photoUrl": "//lh4.googleusercontent.com/-Kx8LhhSjJzM/AAAAAAAAAAI/AAAAAAAAANk/Y6doG3Y6XsI/s50-c-k-no/photo.jpg",
            "userId": "110040482315544751285"
          }
        }
      },
      "cell_type": "code",
      "source": [
        "type(features)"
      ],
      "execution_count": 11,
      "outputs": [
        {
          "output_type": "execute_result",
          "data": {
            "text/plain": [
              "numpy.ndarray"
            ]
          },
          "metadata": {
            "tags": []
          },
          "execution_count": 11
        }
      ]
    },
    {
      "metadata": {
        "id": "wTjp4LXy-zbA",
        "colab_type": "code",
        "colab": {
          "autoexec": {
            "startup": false,
            "wait_interval": 0
          },
          "base_uri": "https://localhost:8080/",
          "height": 34
        },
        "outputId": "e0c16875-3eff-4666-efe4-a037bcb43ada",
        "executionInfo": {
          "status": "ok",
          "timestamp": 1531709185128,
          "user_tz": 300,
          "elapsed": 7324,
          "user": {
            "displayName": "andrea carolina parra lópez",
            "photoUrl": "//lh4.googleusercontent.com/-Kx8LhhSjJzM/AAAAAAAAAAI/AAAAAAAAANk/Y6doG3Y6XsI/s50-c-k-no/photo.jpg",
            "userId": "110040482315544751285"
          }
        }
      },
      "cell_type": "code",
      "source": [
        "import itertools\n",
        "y = list(itertools.chain.from_iterable(itertools.repeat(x, 100) for x in fold_list))\n",
        "len(y)"
      ],
      "execution_count": 17,
      "outputs": [
        {
          "output_type": "execute_result",
          "data": {
            "text/plain": [
              "600"
            ]
          },
          "metadata": {
            "tags": []
          },
          "execution_count": 17
        }
      ]
    },
    {
      "metadata": {
        "id": "mY04XKxhABCQ",
        "colab_type": "code",
        "colab": {
          "autoexec": {
            "startup": false,
            "wait_interval": 0
          }
        }
      },
      "cell_type": "code",
      "source": [
        "from keras.applications.vgg16 import decode_predictions\n",
        "# convert the probabilities to class labels\n",
        "label = decode_predictions(features)"
      ],
      "execution_count": 0,
      "outputs": []
    },
    {
      "metadata": {
        "id": "Up-BmsX2Gl6s",
        "colab_type": "text"
      },
      "cell_type": "markdown",
      "source": [
        "El modelo VGG16 contiene las categorías de las aves ya cargadas, por lo tanto al hacer la predicción se encontrarán tipos de ave que no se tienen en cuenta para estas imagenes, como se muestra a continuación:"
      ]
    },
    {
      "metadata": {
        "id": "U-tq1cVDDVO1",
        "colab_type": "code",
        "colab": {
          "autoexec": {
            "startup": false,
            "wait_interval": 0
          }
        }
      },
      "cell_type": "code",
      "source": [
        "y_pred = []\n",
        "for i in label:\n",
        "  y_pred.append(i[0][1])\n",
        "  \n",
        "pd.value_counts(y_pred)[0:10]"
      ],
      "execution_count": 0,
      "outputs": []
    },
    {
      "metadata": {
        "id": "GMQ_taMqMvn5",
        "colab_type": "text"
      },
      "cell_type": "markdown",
      "source": [
        "Con la predicción inicial calculamos la matriz de confusión de las categorías de aves de la base vs las categorías de aves más frecuentes del modelo preentrenado:"
      ]
    },
    {
      "metadata": {
        "id": "6Z8l2RHBbcMp",
        "colab_type": "code",
        "colab": {
          "autoexec": {
            "startup": false,
            "wait_interval": 0
          },
          "base_uri": "https://localhost:8080/",
          "height": 119
        },
        "outputId": "68f02622-74ba-4b23-d122-47a574a09806",
        "executionInfo": {
          "status": "ok",
          "timestamp": 1531709195768,
          "user_tz": 300,
          "elapsed": 956,
          "user": {
            "displayName": "andrea carolina parra lópez",
            "photoUrl": "//lh4.googleusercontent.com/-Kx8LhhSjJzM/AAAAAAAAAAI/AAAAAAAAANk/Y6doG3Y6XsI/s50-c-k-no/photo.jpg",
            "userId": "110040482315544751285"
          }
        }
      },
      "cell_type": "code",
      "source": [
        "from sklearn.metrics import confusion_matrix\n",
        "\n",
        "conf = confusion_matrix(y, y_pred, labels=fold_list)\n",
        "conf"
      ],
      "execution_count": 21,
      "outputs": [
        {
          "output_type": "execute_result",
          "data": {
            "text/plain": [
              "array([[ 0, 13,  0,  0,  0,  0],\n",
              "       [ 0, 96,  0,  0,  0,  0],\n",
              "       [ 0,  0,  0,  0,  0,  0],\n",
              "       [ 0,  2,  0,  0,  0,  0],\n",
              "       [ 0,  0,  0,  0,  0,  0],\n",
              "       [ 0,  3,  0,  0,  0,  0]])"
            ]
          },
          "metadata": {
            "tags": []
          },
          "execution_count": 21
        }
      ]
    },
    {
      "metadata": {
        "id": "jqtHduXHDTv7",
        "colab_type": "code",
        "colab": {
          "autoexec": {
            "startup": false,
            "wait_interval": 0
          }
        }
      },
      "cell_type": "code",
      "source": [
        "#FUNCION PARA GRAFICAR CONFUSION MATRIX\n",
        "\n",
        "import itertools\n",
        "import numpy as np\n",
        "import matplotlib.pyplot as plt\n",
        "\n",
        "from sklearn import svm, datasets\n",
        "from sklearn.model_selection import train_test_split\n",
        "from sklearn.metrics import confusion_matrix\n",
        "\n",
        "\n",
        "def plot_confusion_matrix(cm, classes,\n",
        "                          normalize=False,\n",
        "                          title='Confusion matrix',\n",
        "                          cmap=plt.cm.Blues):\n",
        "    \"\"\"\n",
        "    This function prints and plots the confusion matrix.\n",
        "    Normalization can be applied by setting `normalize=True`.\n",
        "    \"\"\"\n",
        "    if normalize:\n",
        "        cm = cm.astype('float') / cm.sum(axis=1)[:, np.newaxis]\n",
        "        print(\"Normalized confusion matrix\")\n",
        "    else:\n",
        "        print('Confusion matrix, without normalization')\n",
        "\n",
        "    print(cm)\n",
        "\n",
        "    plt.imshow(cm, interpolation='nearest', cmap=cmap)\n",
        "    plt.title(title)\n",
        "    plt.colorbar()\n",
        "    tick_marks = np.arange(len(classes))\n",
        "    plt.xticks(tick_marks, classes, rotation=45)\n",
        "    plt.yticks(tick_marks, classes)\n",
        "\n",
        "    fmt = '.2f' if normalize else 'd'\n",
        "    thresh = cm.max() / 2.\n",
        "    for i, j in itertools.product(range(cm.shape[0]), range(cm.shape[1])):\n",
        "        plt.text(j, i, format(cm[i, j], fmt),\n",
        "                 horizontalalignment=\"center\",\n",
        "                 color=\"white\" if cm[i, j] > thresh else \"black\")\n",
        "\n",
        "    plt.tight_layout()\n",
        "    plt.ylabel('True label')\n",
        "    plt.xlabel('Predicted label')\n",
        "\n",
        "\n",
        "# Plot non-normalized confusion matrix\n",
        "#plt.figure()\n",
        "#plot_confusion_matrix(conf, classes=fold_list,\n",
        "#                      title='Confusion matrix, without normalization')\n"
      ],
      "execution_count": 0,
      "outputs": []
    },
    {
      "metadata": {
        "id": "t-o97nDaHl5M",
        "colab_type": "text"
      },
      "cell_type": "markdown",
      "source": [
        "Dado que el modelo VGG16 tiene más de 6 categorías, tendremos en cuenta las 10 más frecuentes, que son las siguientes:"
      ]
    },
    {
      "metadata": {
        "id": "NU_xZAubFN2i",
        "colab_type": "code",
        "colab": {
          "autoexec": {
            "startup": false,
            "wait_interval": 0
          },
          "base_uri": "https://localhost:8080/",
          "height": 359
        },
        "outputId": "a3740d76-18a1-4b67-916e-ab07a3b1e79c",
        "executionInfo": {
          "status": "ok",
          "timestamp": 1531709201721,
          "user_tz": 300,
          "elapsed": 960,
          "user": {
            "displayName": "andrea carolina parra lópez",
            "photoUrl": "//lh4.googleusercontent.com/-Kx8LhhSjJzM/AAAAAAAAAAI/AAAAAAAAANk/Y6doG3Y6XsI/s50-c-k-no/photo.jpg",
            "userId": "110040482315544751285"
          }
        }
      },
      "cell_type": "code",
      "source": [
        "#LAS 10 PREDICCIONES MAS FRECUENTES\n",
        "from collections import Counter\n",
        "import pandas as pd\n",
        "import io, os\n",
        "frec_pred = Counter(y_pred)\n",
        "\n",
        "top = pd.DataFrame(frec_pred.most_common(10))\n",
        "\n",
        "top"
      ],
      "execution_count": 23,
      "outputs": [
        {
          "output_type": "execute_result",
          "data": {
            "text/html": [
              "<div>\n",
              "<style scoped>\n",
              "    .dataframe tbody tr th:only-of-type {\n",
              "        vertical-align: middle;\n",
              "    }\n",
              "\n",
              "    .dataframe tbody tr th {\n",
              "        vertical-align: top;\n",
              "    }\n",
              "\n",
              "    .dataframe thead th {\n",
              "        text-align: right;\n",
              "    }\n",
              "</style>\n",
              "<table border=\"1\" class=\"dataframe\">\n",
              "  <thead>\n",
              "    <tr style=\"text-align: right;\">\n",
              "      <th></th>\n",
              "      <th>0</th>\n",
              "      <th>1</th>\n",
              "    </tr>\n",
              "  </thead>\n",
              "  <tbody>\n",
              "    <tr>\n",
              "      <th>0</th>\n",
              "      <td>drake</td>\n",
              "      <td>183</td>\n",
              "    </tr>\n",
              "    <tr>\n",
              "      <th>1</th>\n",
              "      <td>toucan</td>\n",
              "      <td>114</td>\n",
              "    </tr>\n",
              "    <tr>\n",
              "      <th>2</th>\n",
              "      <td>American_egret</td>\n",
              "      <td>89</td>\n",
              "    </tr>\n",
              "    <tr>\n",
              "      <th>3</th>\n",
              "      <td>ptarmigan</td>\n",
              "      <td>41</td>\n",
              "    </tr>\n",
              "    <tr>\n",
              "      <th>4</th>\n",
              "      <td>oystercatcher</td>\n",
              "      <td>17</td>\n",
              "    </tr>\n",
              "    <tr>\n",
              "      <th>5</th>\n",
              "      <td>hen</td>\n",
              "      <td>14</td>\n",
              "    </tr>\n",
              "    <tr>\n",
              "      <th>6</th>\n",
              "      <td>kite</td>\n",
              "      <td>12</td>\n",
              "    </tr>\n",
              "    <tr>\n",
              "      <th>7</th>\n",
              "      <td>albatross</td>\n",
              "      <td>11</td>\n",
              "    </tr>\n",
              "    <tr>\n",
              "      <th>8</th>\n",
              "      <td>magpie</td>\n",
              "      <td>10</td>\n",
              "    </tr>\n",
              "    <tr>\n",
              "      <th>9</th>\n",
              "      <td>king_penguin</td>\n",
              "      <td>8</td>\n",
              "    </tr>\n",
              "  </tbody>\n",
              "</table>\n",
              "</div>"
            ],
            "text/plain": [
              "                0    1\n",
              "0           drake  183\n",
              "1          toucan  114\n",
              "2  American_egret   89\n",
              "3       ptarmigan   41\n",
              "4   oystercatcher   17\n",
              "5             hen   14\n",
              "6            kite   12\n",
              "7       albatross   11\n",
              "8          magpie   10\n",
              "9    king_penguin    8"
            ]
          },
          "metadata": {
            "tags": []
          },
          "execution_count": 23
        }
      ]
    },
    {
      "metadata": {
        "id": "BlJ_GUPMPkQa",
        "colab_type": "text"
      },
      "cell_type": "markdown",
      "source": [
        "Se muestran las predicciones del modelo VGG16, vs los datos reales:"
      ]
    },
    {
      "metadata": {
        "id": "zVHo76X1a4q5",
        "colab_type": "code",
        "colab": {
          "autoexec": {
            "startup": false,
            "wait_interval": 0
          },
          "base_uri": "https://localhost:8080/",
          "height": 1969
        },
        "outputId": "d86db427-4549-4eca-ebbe-9e8e1f316777",
        "executionInfo": {
          "status": "ok",
          "timestamp": 1531709204282,
          "user_tz": 300,
          "elapsed": 1468,
          "user": {
            "displayName": "andrea carolina parra lópez",
            "photoUrl": "//lh4.googleusercontent.com/-Kx8LhhSjJzM/AAAAAAAAAAI/AAAAAAAAANk/Y6doG3Y6XsI/s50-c-k-no/photo.jpg",
            "userId": "110040482315544751285"
          }
        }
      },
      "cell_type": "code",
      "source": [
        "res = pd.DataFrame({'Real': y,'Predicción_VGG16': y_pred})\n",
        "\n",
        "restop = res[res['Predicción_VGG16'].isin(list(top[0]))]\n",
        "restop"
      ],
      "execution_count": 24,
      "outputs": [
        {
          "output_type": "execute_result",
          "data": {
            "text/html": [
              "<div>\n",
              "<style scoped>\n",
              "    .dataframe tbody tr th:only-of-type {\n",
              "        vertical-align: middle;\n",
              "    }\n",
              "\n",
              "    .dataframe tbody tr th {\n",
              "        vertical-align: top;\n",
              "    }\n",
              "\n",
              "    .dataframe thead th {\n",
              "        text-align: right;\n",
              "    }\n",
              "</style>\n",
              "<table border=\"1\" class=\"dataframe\">\n",
              "  <thead>\n",
              "    <tr style=\"text-align: right;\">\n",
              "      <th></th>\n",
              "      <th>Predicción_VGG16</th>\n",
              "      <th>Real</th>\n",
              "    </tr>\n",
              "  </thead>\n",
              "  <tbody>\n",
              "    <tr>\n",
              "      <th>0</th>\n",
              "      <td>king_penguin</td>\n",
              "      <td>puffin</td>\n",
              "    </tr>\n",
              "    <tr>\n",
              "      <th>1</th>\n",
              "      <td>drake</td>\n",
              "      <td>puffin</td>\n",
              "    </tr>\n",
              "    <tr>\n",
              "      <th>2</th>\n",
              "      <td>king_penguin</td>\n",
              "      <td>puffin</td>\n",
              "    </tr>\n",
              "    <tr>\n",
              "      <th>3</th>\n",
              "      <td>drake</td>\n",
              "      <td>puffin</td>\n",
              "    </tr>\n",
              "    <tr>\n",
              "      <th>5</th>\n",
              "      <td>toucan</td>\n",
              "      <td>puffin</td>\n",
              "    </tr>\n",
              "    <tr>\n",
              "      <th>6</th>\n",
              "      <td>drake</td>\n",
              "      <td>puffin</td>\n",
              "    </tr>\n",
              "    <tr>\n",
              "      <th>7</th>\n",
              "      <td>drake</td>\n",
              "      <td>puffin</td>\n",
              "    </tr>\n",
              "    <tr>\n",
              "      <th>8</th>\n",
              "      <td>drake</td>\n",
              "      <td>puffin</td>\n",
              "    </tr>\n",
              "    <tr>\n",
              "      <th>11</th>\n",
              "      <td>king_penguin</td>\n",
              "      <td>puffin</td>\n",
              "    </tr>\n",
              "    <tr>\n",
              "      <th>13</th>\n",
              "      <td>drake</td>\n",
              "      <td>puffin</td>\n",
              "    </tr>\n",
              "    <tr>\n",
              "      <th>14</th>\n",
              "      <td>drake</td>\n",
              "      <td>puffin</td>\n",
              "    </tr>\n",
              "    <tr>\n",
              "      <th>15</th>\n",
              "      <td>oystercatcher</td>\n",
              "      <td>puffin</td>\n",
              "    </tr>\n",
              "    <tr>\n",
              "      <th>16</th>\n",
              "      <td>magpie</td>\n",
              "      <td>puffin</td>\n",
              "    </tr>\n",
              "    <tr>\n",
              "      <th>18</th>\n",
              "      <td>albatross</td>\n",
              "      <td>puffin</td>\n",
              "    </tr>\n",
              "    <tr>\n",
              "      <th>19</th>\n",
              "      <td>drake</td>\n",
              "      <td>puffin</td>\n",
              "    </tr>\n",
              "    <tr>\n",
              "      <th>21</th>\n",
              "      <td>toucan</td>\n",
              "      <td>puffin</td>\n",
              "    </tr>\n",
              "    <tr>\n",
              "      <th>23</th>\n",
              "      <td>oystercatcher</td>\n",
              "      <td>puffin</td>\n",
              "    </tr>\n",
              "    <tr>\n",
              "      <th>24</th>\n",
              "      <td>oystercatcher</td>\n",
              "      <td>puffin</td>\n",
              "    </tr>\n",
              "    <tr>\n",
              "      <th>25</th>\n",
              "      <td>toucan</td>\n",
              "      <td>puffin</td>\n",
              "    </tr>\n",
              "    <tr>\n",
              "      <th>26</th>\n",
              "      <td>king_penguin</td>\n",
              "      <td>puffin</td>\n",
              "    </tr>\n",
              "    <tr>\n",
              "      <th>28</th>\n",
              "      <td>oystercatcher</td>\n",
              "      <td>puffin</td>\n",
              "    </tr>\n",
              "    <tr>\n",
              "      <th>29</th>\n",
              "      <td>toucan</td>\n",
              "      <td>puffin</td>\n",
              "    </tr>\n",
              "    <tr>\n",
              "      <th>30</th>\n",
              "      <td>albatross</td>\n",
              "      <td>puffin</td>\n",
              "    </tr>\n",
              "    <tr>\n",
              "      <th>31</th>\n",
              "      <td>oystercatcher</td>\n",
              "      <td>puffin</td>\n",
              "    </tr>\n",
              "    <tr>\n",
              "      <th>32</th>\n",
              "      <td>oystercatcher</td>\n",
              "      <td>puffin</td>\n",
              "    </tr>\n",
              "    <tr>\n",
              "      <th>35</th>\n",
              "      <td>albatross</td>\n",
              "      <td>puffin</td>\n",
              "    </tr>\n",
              "    <tr>\n",
              "      <th>36</th>\n",
              "      <td>toucan</td>\n",
              "      <td>puffin</td>\n",
              "    </tr>\n",
              "    <tr>\n",
              "      <th>39</th>\n",
              "      <td>toucan</td>\n",
              "      <td>puffin</td>\n",
              "    </tr>\n",
              "    <tr>\n",
              "      <th>40</th>\n",
              "      <td>magpie</td>\n",
              "      <td>puffin</td>\n",
              "    </tr>\n",
              "    <tr>\n",
              "      <th>41</th>\n",
              "      <td>oystercatcher</td>\n",
              "      <td>puffin</td>\n",
              "    </tr>\n",
              "    <tr>\n",
              "      <th>...</th>\n",
              "      <td>...</td>\n",
              "      <td>...</td>\n",
              "    </tr>\n",
              "    <tr>\n",
              "      <th>565</th>\n",
              "      <td>drake</td>\n",
              "      <td>mandarin</td>\n",
              "    </tr>\n",
              "    <tr>\n",
              "      <th>566</th>\n",
              "      <td>drake</td>\n",
              "      <td>mandarin</td>\n",
              "    </tr>\n",
              "    <tr>\n",
              "      <th>568</th>\n",
              "      <td>drake</td>\n",
              "      <td>mandarin</td>\n",
              "    </tr>\n",
              "    <tr>\n",
              "      <th>570</th>\n",
              "      <td>toucan</td>\n",
              "      <td>mandarin</td>\n",
              "    </tr>\n",
              "    <tr>\n",
              "      <th>571</th>\n",
              "      <td>drake</td>\n",
              "      <td>mandarin</td>\n",
              "    </tr>\n",
              "    <tr>\n",
              "      <th>572</th>\n",
              "      <td>drake</td>\n",
              "      <td>mandarin</td>\n",
              "    </tr>\n",
              "    <tr>\n",
              "      <th>573</th>\n",
              "      <td>drake</td>\n",
              "      <td>mandarin</td>\n",
              "    </tr>\n",
              "    <tr>\n",
              "      <th>574</th>\n",
              "      <td>drake</td>\n",
              "      <td>mandarin</td>\n",
              "    </tr>\n",
              "    <tr>\n",
              "      <th>575</th>\n",
              "      <td>drake</td>\n",
              "      <td>mandarin</td>\n",
              "    </tr>\n",
              "    <tr>\n",
              "      <th>576</th>\n",
              "      <td>drake</td>\n",
              "      <td>mandarin</td>\n",
              "    </tr>\n",
              "    <tr>\n",
              "      <th>577</th>\n",
              "      <td>drake</td>\n",
              "      <td>mandarin</td>\n",
              "    </tr>\n",
              "    <tr>\n",
              "      <th>579</th>\n",
              "      <td>drake</td>\n",
              "      <td>mandarin</td>\n",
              "    </tr>\n",
              "    <tr>\n",
              "      <th>580</th>\n",
              "      <td>drake</td>\n",
              "      <td>mandarin</td>\n",
              "    </tr>\n",
              "    <tr>\n",
              "      <th>581</th>\n",
              "      <td>drake</td>\n",
              "      <td>mandarin</td>\n",
              "    </tr>\n",
              "    <tr>\n",
              "      <th>582</th>\n",
              "      <td>drake</td>\n",
              "      <td>mandarin</td>\n",
              "    </tr>\n",
              "    <tr>\n",
              "      <th>583</th>\n",
              "      <td>drake</td>\n",
              "      <td>mandarin</td>\n",
              "    </tr>\n",
              "    <tr>\n",
              "      <th>585</th>\n",
              "      <td>drake</td>\n",
              "      <td>mandarin</td>\n",
              "    </tr>\n",
              "    <tr>\n",
              "      <th>586</th>\n",
              "      <td>drake</td>\n",
              "      <td>mandarin</td>\n",
              "    </tr>\n",
              "    <tr>\n",
              "      <th>587</th>\n",
              "      <td>drake</td>\n",
              "      <td>mandarin</td>\n",
              "    </tr>\n",
              "    <tr>\n",
              "      <th>588</th>\n",
              "      <td>drake</td>\n",
              "      <td>mandarin</td>\n",
              "    </tr>\n",
              "    <tr>\n",
              "      <th>589</th>\n",
              "      <td>drake</td>\n",
              "      <td>mandarin</td>\n",
              "    </tr>\n",
              "    <tr>\n",
              "      <th>590</th>\n",
              "      <td>drake</td>\n",
              "      <td>mandarin</td>\n",
              "    </tr>\n",
              "    <tr>\n",
              "      <th>591</th>\n",
              "      <td>drake</td>\n",
              "      <td>mandarin</td>\n",
              "    </tr>\n",
              "    <tr>\n",
              "      <th>592</th>\n",
              "      <td>drake</td>\n",
              "      <td>mandarin</td>\n",
              "    </tr>\n",
              "    <tr>\n",
              "      <th>594</th>\n",
              "      <td>drake</td>\n",
              "      <td>mandarin</td>\n",
              "    </tr>\n",
              "    <tr>\n",
              "      <th>595</th>\n",
              "      <td>drake</td>\n",
              "      <td>mandarin</td>\n",
              "    </tr>\n",
              "    <tr>\n",
              "      <th>596</th>\n",
              "      <td>drake</td>\n",
              "      <td>mandarin</td>\n",
              "    </tr>\n",
              "    <tr>\n",
              "      <th>597</th>\n",
              "      <td>drake</td>\n",
              "      <td>mandarin</td>\n",
              "    </tr>\n",
              "    <tr>\n",
              "      <th>598</th>\n",
              "      <td>drake</td>\n",
              "      <td>mandarin</td>\n",
              "    </tr>\n",
              "    <tr>\n",
              "      <th>599</th>\n",
              "      <td>drake</td>\n",
              "      <td>mandarin</td>\n",
              "    </tr>\n",
              "  </tbody>\n",
              "</table>\n",
              "<p>499 rows × 2 columns</p>\n",
              "</div>"
            ],
            "text/plain": [
              "    Predicción_VGG16      Real\n",
              "0       king_penguin    puffin\n",
              "1              drake    puffin\n",
              "2       king_penguin    puffin\n",
              "3              drake    puffin\n",
              "5             toucan    puffin\n",
              "6              drake    puffin\n",
              "7              drake    puffin\n",
              "8              drake    puffin\n",
              "11      king_penguin    puffin\n",
              "13             drake    puffin\n",
              "14             drake    puffin\n",
              "15     oystercatcher    puffin\n",
              "16            magpie    puffin\n",
              "18         albatross    puffin\n",
              "19             drake    puffin\n",
              "21            toucan    puffin\n",
              "23     oystercatcher    puffin\n",
              "24     oystercatcher    puffin\n",
              "25            toucan    puffin\n",
              "26      king_penguin    puffin\n",
              "28     oystercatcher    puffin\n",
              "29            toucan    puffin\n",
              "30         albatross    puffin\n",
              "31     oystercatcher    puffin\n",
              "32     oystercatcher    puffin\n",
              "35         albatross    puffin\n",
              "36            toucan    puffin\n",
              "39            toucan    puffin\n",
              "40            magpie    puffin\n",
              "41     oystercatcher    puffin\n",
              "..               ...       ...\n",
              "565            drake  mandarin\n",
              "566            drake  mandarin\n",
              "568            drake  mandarin\n",
              "570           toucan  mandarin\n",
              "571            drake  mandarin\n",
              "572            drake  mandarin\n",
              "573            drake  mandarin\n",
              "574            drake  mandarin\n",
              "575            drake  mandarin\n",
              "576            drake  mandarin\n",
              "577            drake  mandarin\n",
              "579            drake  mandarin\n",
              "580            drake  mandarin\n",
              "581            drake  mandarin\n",
              "582            drake  mandarin\n",
              "583            drake  mandarin\n",
              "585            drake  mandarin\n",
              "586            drake  mandarin\n",
              "587            drake  mandarin\n",
              "588            drake  mandarin\n",
              "589            drake  mandarin\n",
              "590            drake  mandarin\n",
              "591            drake  mandarin\n",
              "592            drake  mandarin\n",
              "594            drake  mandarin\n",
              "595            drake  mandarin\n",
              "596            drake  mandarin\n",
              "597            drake  mandarin\n",
              "598            drake  mandarin\n",
              "599            drake  mandarin\n",
              "\n",
              "[499 rows x 2 columns]"
            ]
          },
          "metadata": {
            "tags": []
          },
          "execution_count": 24
        }
      ]
    },
    {
      "metadata": {
        "id": "gBGgnspbIDbg",
        "colab_type": "text"
      },
      "cell_type": "markdown",
      "source": [
        "El modelo asemeja la clase real mandarin con la clase drake, y algunos pájaros de la clase puffin como toucan.\n",
        "\n",
        "\n",
        "La siguiente es la matriz de confunsión construida con las categorías reales de las aves y las 10 clases más frecuentes que se obtienen a partir de las predicciones del modelo:"
      ]
    },
    {
      "metadata": {
        "id": "wGj6ZY2fbHa5",
        "colab_type": "code",
        "colab": {
          "autoexec": {
            "startup": false,
            "wait_interval": 0
          }
        }
      },
      "cell_type": "code",
      "source": [
        "import seaborn as sns\n",
        "heat = pd.pivot_table(data = restop, values = 'Predicción_VGG16', index = 'Predicción_VGG16', columns = 'Real', aggfunc=lambda x: np.count_nonzero(x), fill_value=0)\n",
        "#heat"
      ],
      "execution_count": 0,
      "outputs": []
    },
    {
      "metadata": {
        "id": "-DotoJrjea-K",
        "colab_type": "code",
        "colab": {
          "autoexec": {
            "startup": false,
            "wait_interval": 0
          },
          "base_uri": "https://localhost:8080/",
          "height": 378
        },
        "outputId": "84c5fd64-1040-4b04-8ca4-0eac5b19b3d6",
        "executionInfo": {
          "status": "ok",
          "timestamp": 1531709209176,
          "user_tz": 300,
          "elapsed": 1295,
          "user": {
            "displayName": "andrea carolina parra lópez",
            "photoUrl": "//lh4.googleusercontent.com/-Kx8LhhSjJzM/AAAAAAAAAAI/AAAAAAAAANk/Y6doG3Y6XsI/s50-c-k-no/photo.jpg",
            "userId": "110040482315544751285"
          }
        }
      },
      "cell_type": "code",
      "source": [
        "sns.heatmap(heat, annot=True, fmt=\".0f\")"
      ],
      "execution_count": 26,
      "outputs": [
        {
          "output_type": "execute_result",
          "data": {
            "text/plain": [
              "<matplotlib.axes._subplots.AxesSubplot at 0x7f9d2e2b83c8>"
            ]
          },
          "metadata": {
            "tags": []
          },
          "execution_count": 26
        },
        {
          "output_type": "display_data",
          "data": {
            "image/png": "[encoded data removed]",
            "text/plain": [
              "<matplotlib.figure.Figure at 0x7f9d54eefeb8>"
            ]
          },
          "metadata": {
            "tags": []
          }
        }
      ]
    },
    {
      "metadata": {
        "id": "aY8tYW1UIIot",
        "colab_type": "text"
      },
      "cell_type": "markdown",
      "source": [
        "En primera medida y teniendo en cuenta que se dejaron las categorías del modelo pre-entrenado, se observa que estas categorías no corresponden a los tipos de ave que deseamos identificar. Sin embargo de la matriz de confusión se observa que las categorías Egret, Toucan y Wood_duck, estan clasificadas correctamente en un 100%,  teniendo en cuenta que aunque las especies Drake y Wood_duck no son exactamente las mismas, si son semejantes. Por otro lado las otras categorías no se identifican claramente, lo cual se puede dar porque dentro de las 10 especies más frecuentes del modelo VGG16 no están exactamente las mismas categorías o alguna similar.\n",
        "\n",
        "Por lo anterior se determina que es necesario entrenar nuevamente el modelo VGG16 utilizando proceso de transfer learning para acotar la salida a las seis categorías de interés"
      ]
    },
    {
      "metadata": {
        "id": "5wxc-FoJ_mUD",
        "colab_type": "text"
      },
      "cell_type": "markdown",
      "source": [
        "## 2. Transfer learning\n",
        "   * Use the pre-trained CNN model as a feature extractor. Create a new model that replaces the top part of the pretrained CNN with two layers of 256 and 6 neurons respectively.\n",
        "   * Train the model with the training images from the bird dataset. \n",
        "   * Evaluate the performance over the test dataset reporting the results in a confusion matrix. Discuss the results. \n",
        "  "
      ]
    },
    {
      "metadata": {
        "id": "QytjPrzy1fKp",
        "colab_type": "code",
        "colab": {
          "autoexec": {
            "startup": false,
            "wait_interval": 0
          },
          "base_uri": "https://localhost:8080/",
          "height": 51
        },
        "outputId": "858b03e9-22eb-4422-bbb6-962de89f37a3",
        "executionInfo": {
          "status": "ok",
          "timestamp": 1531709214500,
          "user_tz": 300,
          "elapsed": 1706,
          "user": {
            "displayName": "andrea carolina parra lópez",
            "photoUrl": "//lh4.googleusercontent.com/-Kx8LhhSjJzM/AAAAAAAAAAI/AAAAAAAAANk/Y6doG3Y6XsI/s50-c-k-no/photo.jpg",
            "userId": "110040482315544751285"
          }
        }
      },
      "cell_type": "code",
      "source": [
        "!ls"
      ],
      "execution_count": 27,
      "outputs": [
        {
          "output_type": "stream",
          "text": [
            "birds\t   birds.zip.1\tbirds.zip.3  datalab\t Train_X.npy\r\n",
            "birds.zip  birds.zip.2\tC:\t     Test_X.npy\r\n"
          ],
          "name": "stdout"
        }
      ]
    },
    {
      "metadata": {
        "id": "qhzv5QWEr9Bi",
        "colab_type": "text"
      },
      "cell_type": "markdown",
      "source": [
        "Se utiliza para preentrenar las imagenes  el modelo VGG16 hasta la capa block5_pool la cual incluye 18 capas entre convoluciones y  maxpooling."
      ]
    },
    {
      "metadata": {
        "id": "dkKXMXVDbz1i",
        "colab_type": "code",
        "colab": {
          "autoexec": {
            "startup": false,
            "wait_interval": 0
          }
        }
      },
      "cell_type": "code",
      "source": [
        "from keras.models import Model\n",
        "# Extract features from an arbitrary intermediate layer\n",
        "model1 = Model(inputs=model.input, outputs=model.get_layer('block5_pool').output)"
      ],
      "execution_count": 0,
      "outputs": []
    },
    {
      "metadata": {
        "id": "PL9vUT1s-iDQ",
        "colab_type": "code",
        "colab": {
          "autoexec": {
            "startup": false,
            "wait_interval": 0
          },
          "base_uri": "https://localhost:8080/",
          "height": 782
        },
        "outputId": "af7bcdf1-cc9b-452c-e632-47a998a65cf4",
        "executionInfo": {
          "status": "ok",
          "timestamp": 1531709222567,
          "user_tz": 300,
          "elapsed": 567,
          "user": {
            "displayName": "andrea carolina parra lópez",
            "photoUrl": "//lh4.googleusercontent.com/-Kx8LhhSjJzM/AAAAAAAAAAI/AAAAAAAAANk/Y6doG3Y6XsI/s50-c-k-no/photo.jpg",
            "userId": "110040482315544751285"
          }
        }
      },
      "cell_type": "code",
      "source": [
        "model1.summary()"
      ],
      "execution_count": 29,
      "outputs": [
        {
          "output_type": "stream",
          "text": [
            "_________________________________________________________________\n",
            "Layer (type)                 Output Shape              Param #   \n",
            "=================================================================\n",
            "input_1 (InputLayer)         (None, 224, 224, 3)       0         \n",
            "_________________________________________________________________\n",
            "block1_conv1 (Conv2D)        (None, 224, 224, 64)      1792      \n",
            "_________________________________________________________________\n",
            "block1_conv2 (Conv2D)        (None, 224, 224, 64)      36928     \n",
            "_________________________________________________________________\n",
            "block1_pool (MaxPooling2D)   (None, 112, 112, 64)      0         \n",
            "_________________________________________________________________\n",
            "block2_conv1 (Conv2D)        (None, 112, 112, 128)     73856     \n",
            "_________________________________________________________________\n",
            "block2_conv2 (Conv2D)        (None, 112, 112, 128)     147584    \n",
            "_________________________________________________________________\n",
            "block2_pool (MaxPooling2D)   (None, 56, 56, 128)       0         \n",
            "_________________________________________________________________\n",
            "block3_conv1 (Conv2D)        (None, 56, 56, 256)       295168    \n",
            "_________________________________________________________________\n",
            "block3_conv2 (Conv2D)        (None, 56, 56, 256)       590080    \n",
            "_________________________________________________________________\n",
            "block3_conv3 (Conv2D)        (None, 56, 56, 256)       590080    \n",
            "_________________________________________________________________\n",
            "block3_pool (MaxPooling2D)   (None, 28, 28, 256)       0         \n",
            "_________________________________________________________________\n",
            "block4_conv1 (Conv2D)        (None, 28, 28, 512)       1180160   \n",
            "_________________________________________________________________\n",
            "block4_conv2 (Conv2D)        (None, 28, 28, 512)       2359808   \n",
            "_________________________________________________________________\n",
            "block4_conv3 (Conv2D)        (None, 28, 28, 512)       2359808   \n",
            "_________________________________________________________________\n",
            "block4_pool (MaxPooling2D)   (None, 14, 14, 512)       0         \n",
            "_________________________________________________________________\n",
            "block5_conv1 (Conv2D)        (None, 14, 14, 512)       2359808   \n",
            "_________________________________________________________________\n",
            "block5_conv2 (Conv2D)        (None, 14, 14, 512)       2359808   \n",
            "_________________________________________________________________\n",
            "block5_conv3 (Conv2D)        (None, 14, 14, 512)       2359808   \n",
            "_________________________________________________________________\n",
            "block5_pool (MaxPooling2D)   (None, 7, 7, 512)         0         \n",
            "=================================================================\n",
            "Total params: 14,714,688\n",
            "Trainable params: 14,714,688\n",
            "Non-trainable params: 0\n",
            "_________________________________________________________________\n"
          ],
          "name": "stdout"
        }
      ]
    },
    {
      "metadata": {
        "id": "19AgH_9kvnFZ",
        "colab_type": "text"
      },
      "cell_type": "markdown",
      "source": [
        "La salida del modelo es un arreglo de 7x7x512 y utiliza en total 14'714.688 parámetros"
      ]
    },
    {
      "metadata": {
        "id": "btwaFF5rXSAz",
        "colab_type": "code",
        "colab": {
          "autoexec": {
            "startup": false,
            "wait_interval": 0
          },
          "base_uri": "https://localhost:8080/",
          "height": 34
        },
        "outputId": "290c9b1d-294b-4fc1-b3b1-713267a9760a",
        "executionInfo": {
          "status": "ok",
          "timestamp": 1531709225643,
          "user_tz": 300,
          "elapsed": 718,
          "user": {
            "displayName": "andrea carolina parra lópez",
            "photoUrl": "//lh4.googleusercontent.com/-Kx8LhhSjJzM/AAAAAAAAAAI/AAAAAAAAANk/Y6doG3Y6XsI/s50-c-k-no/photo.jpg",
            "userId": "110040482315544751285"
          }
        }
      },
      "cell_type": "code",
      "source": [
        "typebirds = os.listdir('birds')\n",
        "typebirds"
      ],
      "execution_count": 30,
      "outputs": [
        {
          "output_type": "execute_result",
          "data": {
            "text/plain": [
              "['puffin', 'toucan', 'egret', 'wood_duck', 'owl', 'mandarin']"
            ]
          },
          "metadata": {
            "tags": []
          },
          "execution_count": 30
        }
      ]
    },
    {
      "metadata": {
        "id": "H1-f1rr_NJsu",
        "colab_type": "code",
        "colab": {
          "autoexec": {
            "startup": false,
            "wait_interval": 0
          }
        }
      },
      "cell_type": "code",
      "source": [
        "num_train_samples = 420\n",
        "num_validation_samples = 180\n",
        "epochs = 50\n",
        "batch_size = 32"
      ],
      "execution_count": 0,
      "outputs": []
    },
    {
      "metadata": {
        "id": "OshpT4f9wFQi",
        "colab_type": "text"
      },
      "cell_type": "markdown",
      "source": [
        "El siguiente código permite cargar las imagenes en el generador con medida 224x224 que es la medida utilizada por VGG16 en sus inputs, adicionalmente se parte la base en train y en test manteniendo una proporción 70%, 30% respectivamente "
      ]
    },
    {
      "metadata": {
        "id": "Po5ippd4Py5R",
        "colab_type": "code",
        "colab": {
          "autoexec": {
            "startup": false,
            "wait_interval": 0
          },
          "base_uri": "https://localhost:8080/",
          "height": 51
        },
        "outputId": "45fda62e-ceef-4680-cc7d-ae2ec2334948",
        "executionInfo": {
          "status": "ok",
          "timestamp": 1531709236551,
          "user_tz": 300,
          "elapsed": 6079,
          "user": {
            "displayName": "andrea carolina parra lópez",
            "photoUrl": "//lh4.googleusercontent.com/-Kx8LhhSjJzM/AAAAAAAAAAI/AAAAAAAAANk/Y6doG3Y6XsI/s50-c-k-no/photo.jpg",
            "userId": "110040482315544751285"
          }
        }
      },
      "cell_type": "code",
      "source": [
        "\n",
        "import numpy as np\n",
        "from keras.preprocessing.image import ImageDataGenerator\n",
        "from keras.models import Sequential\n",
        "from keras.layers import Dropout, Flatten, Dense\n",
        "from keras import applications\n",
        "\n",
        "data_generator = ImageDataGenerator(rescale=1./255, validation_split=0.3)\n",
        "\n",
        "train_generator = data_generator.flow_from_directory('birds', target_size=(224, 224), shuffle=False, seed=13,\n",
        "                                                     class_mode='categorical', batch_size=batch_size, subset=\"training\")\n",
        "\n",
        "validation_generator = data_generator.flow_from_directory('birds', target_size=(224, 224),  shuffle=False, seed=13,\n",
        "                                                     class_mode='categorical', batch_size=batch_size, subset=\"validation\")"
      ],
      "execution_count": 32,
      "outputs": [
        {
          "output_type": "stream",
          "text": [
            "Found 420 images belonging to 6 classes.\n",
            "Found 180 images belonging to 6 classes.\n"
          ],
          "name": "stdout"
        }
      ]
    },
    {
      "metadata": {
        "id": "K1yzM-c6gYDw",
        "colab_type": "code",
        "colab": {
          "autoexec": {
            "startup": false,
            "wait_interval": 0
          },
          "base_uri": "https://localhost:8080/",
          "height": 34
        },
        "outputId": "580b9e1a-8fd0-4720-e611-a7726516ae4a",
        "executionInfo": {
          "status": "ok",
          "timestamp": 1531709241892,
          "user_tz": 300,
          "elapsed": 3358,
          "user": {
            "displayName": "andrea carolina parra lópez",
            "photoUrl": "//lh4.googleusercontent.com/-Kx8LhhSjJzM/AAAAAAAAAAI/AAAAAAAAANk/Y6doG3Y6XsI/s50-c-k-no/photo.jpg",
            "userId": "110040482315544751285"
          }
        }
      },
      "cell_type": "code",
      "source": [
        "#Las imagenes quedan en una base tipo DirectoryIterator, la cual contiene toda la informacion de la generación anterior\n",
        "validation_generator"
      ],
      "execution_count": 33,
      "outputs": [
        {
          "output_type": "execute_result",
          "data": {
            "text/plain": [
              "<keras.preprocessing.image.DirectoryIterator at 0x7f9d2e225470>"
            ]
          },
          "metadata": {
            "tags": []
          },
          "execution_count": 33
        }
      ]
    },
    {
      "metadata": {
        "id": "86HSoBEMQ91r",
        "colab_type": "code",
        "colab": {
          "autoexec": {
            "startup": false,
            "wait_interval": 0
          },
          "base_uri": "https://localhost:8080/",
          "height": 357
        },
        "outputId": "ad7048f2-c643-430d-fcf0-668f34227aac",
        "executionInfo": {
          "status": "ok",
          "timestamp": 1531709243644,
          "user_tz": 300,
          "elapsed": 788,
          "user": {
            "displayName": "andrea carolina parra lópez",
            "photoUrl": "//lh4.googleusercontent.com/-Kx8LhhSjJzM/AAAAAAAAAAI/AAAAAAAAANk/Y6doG3Y6XsI/s50-c-k-no/photo.jpg",
            "userId": "110040482315544751285"
          }
        }
      },
      "cell_type": "code",
      "source": [
        "#CATEGORIAS DE CADA BASE\n",
        "y_train = train_generator.classes\n",
        "val_labels = validation_generator.classes\n",
        "y_train"
      ],
      "execution_count": 34,
      "outputs": [
        {
          "output_type": "execute_result",
          "data": {
            "text/plain": [
              "array([0, 0, 0, 0, 0, 0, 0, 0, 0, 0, 0, 0, 0, 0, 0, 0, 0, 0, 0, 0, 0, 0,\n",
              "       0, 0, 0, 0, 0, 0, 0, 0, 0, 0, 0, 0, 0, 0, 0, 0, 0, 0, 0, 0, 0, 0,\n",
              "       0, 0, 0, 0, 0, 0, 0, 0, 0, 0, 0, 0, 0, 0, 0, 0, 0, 0, 0, 0, 0, 0,\n",
              "       0, 0, 0, 0, 1, 1, 1, 1, 1, 1, 1, 1, 1, 1, 1, 1, 1, 1, 1, 1, 1, 1,\n",
              "       1, 1, 1, 1, 1, 1, 1, 1, 1, 1, 1, 1, 1, 1, 1, 1, 1, 1, 1, 1, 1, 1,\n",
              "       1, 1, 1, 1, 1, 1, 1, 1, 1, 1, 1, 1, 1, 1, 1, 1, 1, 1, 1, 1, 1, 1,\n",
              "       1, 1, 1, 1, 1, 1, 1, 1, 2, 2, 2, 2, 2, 2, 2, 2, 2, 2, 2, 2, 2, 2,\n",
              "       2, 2, 2, 2, 2, 2, 2, 2, 2, 2, 2, 2, 2, 2, 2, 2, 2, 2, 2, 2, 2, 2,\n",
              "       2, 2, 2, 2, 2, 2, 2, 2, 2, 2, 2, 2, 2, 2, 2, 2, 2, 2, 2, 2, 2, 2,\n",
              "       2, 2, 2, 2, 2, 2, 2, 2, 2, 2, 2, 2, 3, 3, 3, 3, 3, 3, 3, 3, 3, 3,\n",
              "       3, 3, 3, 3, 3, 3, 3, 3, 3, 3, 3, 3, 3, 3, 3, 3, 3, 3, 3, 3, 3, 3,\n",
              "       3, 3, 3, 3, 3, 3, 3, 3, 3, 3, 3, 3, 3, 3, 3, 3, 3, 3, 3, 3, 3, 3,\n",
              "       3, 3, 3, 3, 3, 3, 3, 3, 3, 3, 3, 3, 3, 3, 3, 3, 4, 4, 4, 4, 4, 4,\n",
              "       4, 4, 4, 4, 4, 4, 4, 4, 4, 4, 4, 4, 4, 4, 4, 4, 4, 4, 4, 4, 4, 4,\n",
              "       4, 4, 4, 4, 4, 4, 4, 4, 4, 4, 4, 4, 4, 4, 4, 4, 4, 4, 4, 4, 4, 4,\n",
              "       4, 4, 4, 4, 4, 4, 4, 4, 4, 4, 4, 4, 4, 4, 4, 4, 4, 4, 4, 4, 5, 5,\n",
              "       5, 5, 5, 5, 5, 5, 5, 5, 5, 5, 5, 5, 5, 5, 5, 5, 5, 5, 5, 5, 5, 5,\n",
              "       5, 5, 5, 5, 5, 5, 5, 5, 5, 5, 5, 5, 5, 5, 5, 5, 5, 5, 5, 5, 5, 5,\n",
              "       5, 5, 5, 5, 5, 5, 5, 5, 5, 5, 5, 5, 5, 5, 5, 5, 5, 5, 5, 5, 5, 5,\n",
              "       5, 5], dtype=int32)"
            ]
          },
          "metadata": {
            "tags": []
          },
          "execution_count": 34
        }
      ]
    },
    {
      "metadata": {
        "id": "77e4BQkJ3Ka8",
        "colab_type": "code",
        "colab": {
          "autoexec": {
            "startup": false,
            "wait_interval": 0
          },
          "base_uri": "https://localhost:8080/",
          "height": 187
        },
        "outputId": "115ec644-b848-4697-9200-fc582fc17029",
        "executionInfo": {
          "status": "ok",
          "timestamp": 1531709245569,
          "user_tz": 300,
          "elapsed": 798,
          "user": {
            "displayName": "andrea carolina parra lópez",
            "photoUrl": "//lh4.googleusercontent.com/-Kx8LhhSjJzM/AAAAAAAAAAI/AAAAAAAAANk/Y6doG3Y6XsI/s50-c-k-no/photo.jpg",
            "userId": "110040482315544751285"
          }
        }
      },
      "cell_type": "code",
      "source": [
        "#CONVIERTO LA y_train EN CATEGORIAS PARA LA PREDICCION\n",
        "from keras import utils\n",
        "# Convert labels to categorical one-hot encoding\n",
        "train_labels = utils.to_categorical(y_train, num_classes=6)\n",
        "train_labels[:10]"
      ],
      "execution_count": 35,
      "outputs": [
        {
          "output_type": "execute_result",
          "data": {
            "text/plain": [
              "array([[1., 0., 0., 0., 0., 0.],\n",
              "       [1., 0., 0., 0., 0., 0.],\n",
              "       [1., 0., 0., 0., 0., 0.],\n",
              "       [1., 0., 0., 0., 0., 0.],\n",
              "       [1., 0., 0., 0., 0., 0.],\n",
              "       [1., 0., 0., 0., 0., 0.],\n",
              "       [1., 0., 0., 0., 0., 0.],\n",
              "       [1., 0., 0., 0., 0., 0.],\n",
              "       [1., 0., 0., 0., 0., 0.],\n",
              "       [1., 0., 0., 0., 0., 0.]], dtype=float32)"
            ]
          },
          "metadata": {
            "tags": []
          },
          "execution_count": 35
        }
      ]
    },
    {
      "metadata": {
        "id": "XKctwjuZeYkD",
        "colab_type": "code",
        "colab": {
          "autoexec": {
            "startup": false,
            "wait_interval": 0
          },
          "base_uri": "https://localhost:8080/",
          "height": 187
        },
        "outputId": "36e104da-bef4-4d11-8357-34377ae47fc7",
        "executionInfo": {
          "status": "ok",
          "timestamp": 1531709247470,
          "user_tz": 300,
          "elapsed": 932,
          "user": {
            "displayName": "andrea carolina parra lópez",
            "photoUrl": "//lh4.googleusercontent.com/-Kx8LhhSjJzM/AAAAAAAAAAI/AAAAAAAAANk/Y6doG3Y6XsI/s50-c-k-no/photo.jpg",
            "userId": "110040482315544751285"
          }
        }
      },
      "cell_type": "code",
      "source": [
        "#CONVIERTO LA y_test EN CATEGORIAS PARA LA PREDICCION\n",
        "val_labels = utils.to_categorical(val_labels, num_classes=6)\n",
        "val_labels[:10]"
      ],
      "execution_count": 36,
      "outputs": [
        {
          "output_type": "execute_result",
          "data": {
            "text/plain": [
              "array([[1., 0., 0., 0., 0., 0.],\n",
              "       [1., 0., 0., 0., 0., 0.],\n",
              "       [1., 0., 0., 0., 0., 0.],\n",
              "       [1., 0., 0., 0., 0., 0.],\n",
              "       [1., 0., 0., 0., 0., 0.],\n",
              "       [1., 0., 0., 0., 0., 0.],\n",
              "       [1., 0., 0., 0., 0., 0.],\n",
              "       [1., 0., 0., 0., 0., 0.],\n",
              "       [1., 0., 0., 0., 0., 0.],\n",
              "       [1., 0., 0., 0., 0., 0.]], dtype=float32)"
            ]
          },
          "metadata": {
            "tags": []
          },
          "execution_count": 36
        }
      ]
    },
    {
      "metadata": {
        "id": "3vJEEk8rAZ7H",
        "colab_type": "code",
        "colab": {
          "autoexec": {
            "startup": false,
            "wait_interval": 0
          }
        }
      },
      "cell_type": "code",
      "source": [
        "#GENERAR LA BASE DE SALIDA DE TRAIN DEL VGG16 PARA HACER TRANSFER  \n",
        "X_datatrain = model1.predict_generator(train_generator)"
      ],
      "execution_count": 0,
      "outputs": []
    },
    {
      "metadata": {
        "id": "rroyB7K9aGcK",
        "colab_type": "code",
        "colab": {
          "autoexec": {
            "startup": false,
            "wait_interval": 0
          }
        }
      },
      "cell_type": "code",
      "source": [
        "#GENERAR LA BASE DE SALIDA DE TEST DEL VGG16 PARA HACER TRANSFER  \n",
        "X_validation = model1.predict_generator(validation_generator)"
      ],
      "execution_count": 0,
      "outputs": []
    },
    {
      "metadata": {
        "id": "WE32vMRJCIjJ",
        "colab_type": "code",
        "colab": {
          "autoexec": {
            "startup": false,
            "wait_interval": 0
          },
          "base_uri": "https://localhost:8080/",
          "height": 34
        },
        "outputId": "5ba6294a-f69d-47e6-c09a-86df58c02563",
        "executionInfo": {
          "status": "ok",
          "timestamp": 1531709261893,
          "user_tz": 300,
          "elapsed": 479,
          "user": {
            "displayName": "andrea carolina parra lópez",
            "photoUrl": "//lh4.googleusercontent.com/-Kx8LhhSjJzM/AAAAAAAAAAI/AAAAAAAAANk/Y6doG3Y6XsI/s50-c-k-no/photo.jpg",
            "userId": "110040482315544751285"
          }
        }
      },
      "cell_type": "code",
      "source": [
        "#Tamaño de la matriz de entrenamiento\n",
        "X_datatrain.shape[1:]"
      ],
      "execution_count": 39,
      "outputs": [
        {
          "output_type": "execute_result",
          "data": {
            "text/plain": [
              "(7, 7, 512)"
            ]
          },
          "metadata": {
            "tags": []
          },
          "execution_count": 39
        }
      ]
    },
    {
      "metadata": {
        "id": "VythSLx2a86j",
        "colab_type": "code",
        "colab": {
          "autoexec": {
            "startup": false,
            "wait_interval": 0
          },
          "base_uri": "https://localhost:8080/",
          "height": 34
        },
        "outputId": "9ec2b77b-9cab-4e61-c13f-d23c2c48d09c",
        "executionInfo": {
          "status": "ok",
          "timestamp": 1531709263805,
          "user_tz": 300,
          "elapsed": 543,
          "user": {
            "displayName": "andrea carolina parra lópez",
            "photoUrl": "//lh4.googleusercontent.com/-Kx8LhhSjJzM/AAAAAAAAAAI/AAAAAAAAANk/Y6doG3Y6XsI/s50-c-k-no/photo.jpg",
            "userId": "110040482315544751285"
          }
        }
      },
      "cell_type": "code",
      "source": [
        "#Tamaño de la matriz de validacion\n",
        "X_validation.shape"
      ],
      "execution_count": 40,
      "outputs": [
        {
          "output_type": "execute_result",
          "data": {
            "text/plain": [
              "(180, 7, 7, 512)"
            ]
          },
          "metadata": {
            "tags": []
          },
          "execution_count": 40
        }
      ]
    },
    {
      "metadata": {
        "id": "RfpU3UsnqUUU",
        "colab_type": "text"
      },
      "cell_type": "markdown",
      "source": [
        "Reemplazamos la parte superior del modelo preentrenado con una capa de 256 y 6 neuronas respectivamente:"
      ]
    },
    {
      "metadata": {
        "id": "EwX-5RlI3Jrr",
        "colab_type": "code",
        "colab": {
          "autoexec": {
            "startup": false,
            "wait_interval": 0
          }
        }
      },
      "cell_type": "code",
      "source": [
        "#Definimos un nuevo modelo, el cuál recibe los datos del modelo precargado\n",
        "\n",
        "model_1 = Sequential()\n",
        "model_1.add(Flatten(input_shape=X_datatrain.shape[1:]))\n",
        "model_1.add(Dense(256, activation='relu')) #CAPA INTERMEDIA\n",
        "model_1.add(Dropout(0.5))\n",
        "model_1.add(Dense(6, activation='softmax')) #SALIDA QUE HACE PREDICCION\n",
        "\n",
        "model_1.compile(optimizer='rmsprop',\n",
        "              loss='categorical_crossentropy', metrics=['accuracy'])"
      ],
      "execution_count": 0,
      "outputs": []
    },
    {
      "metadata": {
        "id": "E4PjGF0scYBE",
        "colab_type": "code",
        "colab": {
          "autoexec": {
            "startup": false,
            "wait_interval": 0
          },
          "base_uri": "https://localhost:8080/",
          "height": 272
        },
        "outputId": "6dcb868b-1ec2-447a-f323-3da75a0e5f68",
        "executionInfo": {
          "status": "ok",
          "timestamp": 1531709270040,
          "user_tz": 300,
          "elapsed": 707,
          "user": {
            "displayName": "andrea carolina parra lópez",
            "photoUrl": "//lh4.googleusercontent.com/-Kx8LhhSjJzM/AAAAAAAAAAI/AAAAAAAAANk/Y6doG3Y6XsI/s50-c-k-no/photo.jpg",
            "userId": "110040482315544751285"
          }
        }
      },
      "cell_type": "code",
      "source": [
        "model_1.summary()"
      ],
      "execution_count": 42,
      "outputs": [
        {
          "output_type": "stream",
          "text": [
            "_________________________________________________________________\n",
            "Layer (type)                 Output Shape              Param #   \n",
            "=================================================================\n",
            "flatten_1 (Flatten)          (None, 25088)             0         \n",
            "_________________________________________________________________\n",
            "dense_1 (Dense)              (None, 256)               6422784   \n",
            "_________________________________________________________________\n",
            "dropout_1 (Dropout)          (None, 256)               0         \n",
            "_________________________________________________________________\n",
            "dense_2 (Dense)              (None, 6)                 1542      \n",
            "=================================================================\n",
            "Total params: 6,424,326\n",
            "Trainable params: 6,424,326\n",
            "Non-trainable params: 0\n",
            "_________________________________________________________________\n"
          ],
          "name": "stdout"
        }
      ]
    },
    {
      "metadata": {
        "id": "RUckEBujARDN",
        "colab_type": "code",
        "colab": {
          "autoexec": {
            "startup": false,
            "wait_interval": 0
          }
        }
      },
      "cell_type": "code",
      "source": [
        "model_1.fit(X_datatrain, train_labels,\n",
        "          epochs=50,\n",
        "          batch_size=batch_size,\n",
        "          validation_data=(X_validation, val_labels))"
      ],
      "execution_count": 0,
      "outputs": []
    },
    {
      "metadata": {
        "id": "kusm35yJaqC_",
        "colab_type": "code",
        "colab": {
          "autoexec": {
            "startup": false,
            "wait_interval": 0
          }
        }
      },
      "cell_type": "code",
      "source": [
        "#HAGO PREDICCION\n",
        "x_test = pd.DataFrame(columns = range(0,6))\n",
        "y_test = pd.DataFrame(columns = range(0,6))\n",
        "yt= pd.DataFrame()\n",
        "ypredt= pd.DataFrame()\n",
        "for x_batch, y_batch in validation_generator:\n",
        "  #print(y_batch)\n",
        "  #print(type(x_batch))\n",
        "  pred = model_1.predict_proba(model1.predict(x_batch))\n",
        "  #print(pred)\n",
        "  yt = pd.DataFrame(y_batch)\n",
        "  ypredt = pd.DataFrame(pred)\n",
        "  x_test = x_test.append(yt, ignore_index=True)\n",
        "  y_test = y_test.append(ypredt, ignore_index=True)\n",
        "  break"
      ],
      "execution_count": 0,
      "outputs": []
    },
    {
      "metadata": {
        "id": "41xzQA4IE-7V",
        "colab_type": "code",
        "colab": {
          "autoexec": {
            "startup": false,
            "wait_interval": 0
          }
        }
      },
      "cell_type": "code",
      "source": [
        "#PREDICCION: Se realiza la predicción con los datos de validación\n",
        "pred = model_1.predict_proba(X_validation)"
      ],
      "execution_count": 0,
      "outputs": []
    },
    {
      "metadata": {
        "id": "XBAOMRqKpLxb",
        "colab_type": "code",
        "colab": {
          "autoexec": {
            "startup": false,
            "wait_interval": 0
          }
        }
      },
      "cell_type": "code",
      "source": [
        "#Se pasa la matriz de probabilidades de la prediccion a una lista de categorias con los nombres de los pájaros con una mayor probabilidad\n",
        "y_pred = pd.DataFrame(list(pred), columns=typebirds).idxmax(axis=1)"
      ],
      "execution_count": 0,
      "outputs": []
    },
    {
      "metadata": {
        "id": "8vhUFx9yPHfp",
        "colab_type": "code",
        "colab": {
          "autoexec": {
            "startup": false,
            "wait_interval": 0
          }
        }
      },
      "cell_type": "code",
      "source": [
        "#Se pasa la lista de ctegorias real a una lista de categorias con los nombres de los pájaros para medir la precisión\n",
        "y = pd.DataFrame(list(val_labels), columns=typebirds).idxmax(axis=1)"
      ],
      "execution_count": 0,
      "outputs": []
    },
    {
      "metadata": {
        "id": "i6w00iSTrbvW",
        "colab_type": "text"
      },
      "cell_type": "markdown",
      "source": [
        "Evaluamos los resultados sobre el conjunto de datos de prueba:"
      ]
    },
    {
      "metadata": {
        "id": "_m4EDk9OkP1z",
        "colab_type": "code",
        "colab": {
          "autoexec": {
            "startup": false,
            "wait_interval": 0
          },
          "base_uri": "https://localhost:8080/",
          "height": 34
        },
        "outputId": "bad208c9-9b95-4a4a-85cd-2bab2781430d",
        "executionInfo": {
          "status": "ok",
          "timestamp": 1531709318214,
          "user_tz": 300,
          "elapsed": 420,
          "user": {
            "displayName": "andrea carolina parra lópez",
            "photoUrl": "//lh4.googleusercontent.com/-Kx8LhhSjJzM/AAAAAAAAAAI/AAAAAAAAANk/Y6doG3Y6XsI/s50-c-k-no/photo.jpg",
            "userId": "110040482315544751285"
          }
        }
      },
      "cell_type": "code",
      "source": [
        "from sklearn.metrics import r2_score, roc_auc_score\n",
        "print('AUC: ',roc_auc_score(val_labels, pred))"
      ],
      "execution_count": 48,
      "outputs": [
        {
          "output_type": "stream",
          "text": [
            "AUC:  0.9948148148148149\n"
          ],
          "name": "stdout"
        }
      ]
    },
    {
      "metadata": {
        "id": "6teW0Tk7rkOH",
        "colab_type": "text"
      },
      "cell_type": "markdown",
      "source": [
        "El accuracy que se obtuvo con este modelo es de 0.994, es decir que el 99.4% de las veces el modelo predice bien a que clase de pájaros pertenece cada imagen."
      ]
    },
    {
      "metadata": {
        "id": "kvahTI9BsgdI",
        "colab_type": "code",
        "colab": {
          "autoexec": {
            "startup": false,
            "wait_interval": 0
          },
          "base_uri": "https://localhost:8080/",
          "height": 119
        },
        "outputId": "8440ba4f-bf2b-4ab9-b2b7-6490965ebb0f",
        "executionInfo": {
          "status": "ok",
          "timestamp": 1531709321491,
          "user_tz": 300,
          "elapsed": 467,
          "user": {
            "displayName": "andrea carolina parra lópez",
            "photoUrl": "//lh4.googleusercontent.com/-Kx8LhhSjJzM/AAAAAAAAAAI/AAAAAAAAANk/Y6doG3Y6XsI/s50-c-k-no/photo.jpg",
            "userId": "110040482315544751285"
          }
        }
      },
      "cell_type": "code",
      "source": [
        "from sklearn.metrics import confusion_matrix\n",
        "\n",
        "#s2 = dummies.idxmax(axis=1)s2 = dummies.idxmax(axis=1)\n",
        "\n",
        "\n",
        "conf2 = confusion_matrix(y, y_pred, labels=fold_list)\n",
        "conf2"
      ],
      "execution_count": 49,
      "outputs": [
        {
          "output_type": "execute_result",
          "data": {
            "text/plain": [
              "array([[30,  0,  0,  0,  0,  0],\n",
              "       [ 0, 27,  0,  1,  2,  0],\n",
              "       [ 2,  0, 27,  1,  0,  0],\n",
              "       [ 1,  1,  1, 27,  0,  0],\n",
              "       [ 0,  0,  0,  1, 29,  0],\n",
              "       [ 3,  3,  0,  0,  0, 24]])"
            ]
          },
          "metadata": {
            "tags": []
          },
          "execution_count": 49
        }
      ]
    },
    {
      "metadata": {
        "id": "eNaa429aLbqW",
        "colab_type": "code",
        "colab": {
          "autoexec": {
            "startup": false,
            "wait_interval": 0
          },
          "base_uri": "https://localhost:8080/",
          "height": 534
        },
        "outputId": "c9c30d5f-5136-4e65-f1ad-b89334d68a64",
        "executionInfo": {
          "status": "ok",
          "timestamp": 1531709323799,
          "user_tz": 300,
          "elapsed": 1184,
          "user": {
            "displayName": "andrea carolina parra lópez",
            "photoUrl": "//lh4.googleusercontent.com/-Kx8LhhSjJzM/AAAAAAAAAAI/AAAAAAAAANk/Y6doG3Y6XsI/s50-c-k-no/photo.jpg",
            "userId": "110040482315544751285"
          }
        }
      },
      "cell_type": "code",
      "source": [
        "plot_confusion_matrix(conf2, classes=fold_list,\n",
        "                     title='Confusion matrix - Transfer Learning VGG16')"
      ],
      "execution_count": 50,
      "outputs": [
        {
          "output_type": "stream",
          "text": [
            "Confusion matrix, without normalization\n",
            "[[30  0  0  0  0  0]\n",
            " [ 0 27  0  1  2  0]\n",
            " [ 2  0 27  1  0  0]\n",
            " [ 1  1  1 27  0  0]\n",
            " [ 0  0  0  1 29  0]\n",
            " [ 3  3  0  0  0 24]]\n"
          ],
          "name": "stdout"
        },
        {
          "output_type": "display_data",
          "data": {
            "image/png": "[encoded data removed]",
            "text/plain": [
              "<matplotlib.figure.Figure at 0x7f9d3319ffd0>"
            ]
          },
          "metadata": {
            "tags": []
          }
        }
      ]
    },
    {
      "metadata": {
        "id": "j0h6wdLCsA4h",
        "colab_type": "text"
      },
      "cell_type": "markdown",
      "source": [
        "En la matriz de confusión también se evidencia la eficiencia del modelo, en donde en muy pocos casos se clasifica una imagen en una clase diferente a la real."
      ]
    },
    {
      "metadata": {
        "id": "_vCDbIwsdYGM",
        "colab_type": "text"
      },
      "cell_type": "markdown",
      "source": [
        "## 3. Fine tuning\n",
        "   * Repeat the experiment from the last question, but this time allow all the layers to be trained. \n",
        "   * Compare and discuss the results."
      ]
    },
    {
      "metadata": {
        "id": "eXjaZ7NyPygy",
        "colab_type": "code",
        "colab": {
          "autoexec": {
            "startup": false,
            "wait_interval": 0
          },
          "base_uri": "https://localhost:8080/",
          "height": 986
        },
        "outputId": "0804f561-327e-4710-d194-d701ff76940d",
        "executionInfo": {
          "status": "ok",
          "timestamp": 1531709328200,
          "user_tz": 300,
          "elapsed": 581,
          "user": {
            "displayName": "andrea carolina parra lópez",
            "photoUrl": "//lh4.googleusercontent.com/-Kx8LhhSjJzM/AAAAAAAAAAI/AAAAAAAAANk/Y6doG3Y6XsI/s50-c-k-no/photo.jpg",
            "userId": "110040482315544751285"
          }
        }
      },
      "cell_type": "code",
      "source": [
        "from keras.layers import Dense, GlobalAveragePooling2D\n",
        "\n",
        "#Cargamos el modelo preentrenado el cual se nombro anteriormente como model1:\n",
        "\n",
        "base_model = model1 #cargo VGG16 - Top=False\n",
        "\n",
        "#Se genera la nueva capa de la Red neuronal. Estos parámetros se ajustaron hasta obtener el numero de capas y las neuronas óptimas \n",
        "\n",
        "x = base_model.output\n",
        "x = GlobalAveragePooling2D()(x)\n",
        "x = Dense(1024, activation='relu')(x)\n",
        "x = Dropout(0.5)(x)\n",
        "x = Dense(512, activation='relu')(x)\n",
        "x = Dropout(0.5)(x)\n",
        "predictions = Dense(6, activation='softmax')(x)\n",
        "\n",
        "#Se define el modelo con las capas del VGG16 como capas de entrada y \n",
        "#la red neuronal para entrenamiento y predicción\n",
        "\n",
        "modelFT = Model(inputs=base_model.input, outputs=predictions)\n",
        "\n",
        "modelFT.summary()"
      ],
      "execution_count": 51,
      "outputs": [
        {
          "output_type": "stream",
          "text": [
            "_________________________________________________________________\n",
            "Layer (type)                 Output Shape              Param #   \n",
            "=================================================================\n",
            "input_1 (InputLayer)         (None, 224, 224, 3)       0         \n",
            "_________________________________________________________________\n",
            "block1_conv1 (Conv2D)        (None, 224, 224, 64)      1792      \n",
            "_________________________________________________________________\n",
            "block1_conv2 (Conv2D)        (None, 224, 224, 64)      36928     \n",
            "_________________________________________________________________\n",
            "block1_pool (MaxPooling2D)   (None, 112, 112, 64)      0         \n",
            "_________________________________________________________________\n",
            "block2_conv1 (Conv2D)        (None, 112, 112, 128)     73856     \n",
            "_________________________________________________________________\n",
            "block2_conv2 (Conv2D)        (None, 112, 112, 128)     147584    \n",
            "_________________________________________________________________\n",
            "block2_pool (MaxPooling2D)   (None, 56, 56, 128)       0         \n",
            "_________________________________________________________________\n",
            "block3_conv1 (Conv2D)        (None, 56, 56, 256)       295168    \n",
            "_________________________________________________________________\n",
            "block3_conv2 (Conv2D)        (None, 56, 56, 256)       590080    \n",
            "_________________________________________________________________\n",
            "block3_conv3 (Conv2D)        (None, 56, 56, 256)       590080    \n",
            "_________________________________________________________________\n",
            "block3_pool (MaxPooling2D)   (None, 28, 28, 256)       0         \n",
            "_________________________________________________________________\n",
            "block4_conv1 (Conv2D)        (None, 28, 28, 512)       1180160   \n",
            "_________________________________________________________________\n",
            "block4_conv2 (Conv2D)        (None, 28, 28, 512)       2359808   \n",
            "_________________________________________________________________\n",
            "block4_conv3 (Conv2D)        (None, 28, 28, 512)       2359808   \n",
            "_________________________________________________________________\n",
            "block4_pool (MaxPooling2D)   (None, 14, 14, 512)       0         \n",
            "_________________________________________________________________\n",
            "block5_conv1 (Conv2D)        (None, 14, 14, 512)       2359808   \n",
            "_________________________________________________________________\n",
            "block5_conv2 (Conv2D)        (None, 14, 14, 512)       2359808   \n",
            "_________________________________________________________________\n",
            "block5_conv3 (Conv2D)        (None, 14, 14, 512)       2359808   \n",
            "_________________________________________________________________\n",
            "block5_pool (MaxPooling2D)   (None, 7, 7, 512)         0         \n",
            "_________________________________________________________________\n",
            "global_average_pooling2d_1 ( (None, 512)               0         \n",
            "_________________________________________________________________\n",
            "dense_3 (Dense)              (None, 1024)              525312    \n",
            "_________________________________________________________________\n",
            "dropout_2 (Dropout)          (None, 1024)              0         \n",
            "_________________________________________________________________\n",
            "dense_4 (Dense)              (None, 512)               524800    \n",
            "_________________________________________________________________\n",
            "dropout_3 (Dropout)          (None, 512)               0         \n",
            "_________________________________________________________________\n",
            "dense_5 (Dense)              (None, 6)                 3078      \n",
            "=================================================================\n",
            "Total params: 15,767,878\n",
            "Trainable params: 15,767,878\n",
            "Non-trainable params: 0\n",
            "_________________________________________________________________\n"
          ],
          "name": "stdout"
        }
      ]
    },
    {
      "metadata": {
        "id": "Xmd6n9au8Pbw",
        "colab_type": "code",
        "colab": {
          "autoexec": {
            "startup": false,
            "wait_interval": 0
          },
          "base_uri": "https://localhost:8080/",
          "height": 340
        },
        "outputId": "02f06405-b24d-48bb-f87a-813832a6274e",
        "executionInfo": {
          "status": "ok",
          "timestamp": 1531709337754,
          "user_tz": 300,
          "elapsed": 479,
          "user": {
            "displayName": "andrea carolina parra lópez",
            "photoUrl": "//lh4.googleusercontent.com/-Kx8LhhSjJzM/AAAAAAAAAAI/AAAAAAAAANk/Y6doG3Y6XsI/s50-c-k-no/photo.jpg",
            "userId": "110040482315544751285"
          }
        }
      },
      "cell_type": "code",
      "source": [
        "for i, layer in enumerate(base_model.layers):\n",
        "   print(i, layer.name)"
      ],
      "execution_count": 52,
      "outputs": [
        {
          "output_type": "stream",
          "text": [
            "0 input_1\n",
            "1 block1_conv1\n",
            "2 block1_conv2\n",
            "3 block1_pool\n",
            "4 block2_conv1\n",
            "5 block2_conv2\n",
            "6 block2_pool\n",
            "7 block3_conv1\n",
            "8 block3_conv2\n",
            "9 block3_conv3\n",
            "10 block3_pool\n",
            "11 block4_conv1\n",
            "12 block4_conv2\n",
            "13 block4_conv3\n",
            "14 block4_pool\n",
            "15 block5_conv1\n",
            "16 block5_conv2\n",
            "17 block5_conv3\n",
            "18 block5_pool\n"
          ],
          "name": "stdout"
        }
      ]
    },
    {
      "metadata": {
        "id": "2NS2IqpsLWVX",
        "colab_type": "code",
        "colab": {
          "autoexec": {
            "startup": false,
            "wait_interval": 0
          }
        }
      },
      "cell_type": "code",
      "source": [
        "#Se bloquean las primeras capas del modelo original\n",
        "for layer in base_model.layers:\n",
        "    layer.trainable = False"
      ],
      "execution_count": 0,
      "outputs": []
    },
    {
      "metadata": {
        "id": "8xuQq3Nqtvhi",
        "colab_type": "code",
        "colab": {
          "autoexec": {
            "startup": false,
            "wait_interval": 0
          }
        }
      },
      "cell_type": "code",
      "source": [
        "#Se parametrizan el optimizador y el loss\n",
        "modelFT.compile(optimizer='rmsprop', loss='categorical_crossentropy')"
      ],
      "execution_count": 0,
      "outputs": []
    },
    {
      "metadata": {
        "id": "2ENHs2kGM0zS",
        "colab_type": "code",
        "colab": {
          "autoexec": {
            "startup": false,
            "wait_interval": 0
          },
          "base_uri": "https://localhost:8080/",
          "height": 34
        },
        "outputId": "84b57ba6-96c6-4f13-d073-ec6a6e6e9fcf",
        "executionInfo": {
          "status": "ok",
          "timestamp": 1531709348530,
          "user_tz": 300,
          "elapsed": 553,
          "user": {
            "displayName": "andrea carolina parra lópez",
            "photoUrl": "//lh4.googleusercontent.com/-Kx8LhhSjJzM/AAAAAAAAAAI/AAAAAAAAANk/Y6doG3Y6XsI/s50-c-k-no/photo.jpg",
            "userId": "110040482315544751285"
          }
        }
      },
      "cell_type": "code",
      "source": [
        "train_generator.total_batches_seen"
      ],
      "execution_count": 55,
      "outputs": [
        {
          "output_type": "execute_result",
          "data": {
            "text/plain": [
              "18"
            ]
          },
          "metadata": {
            "tags": []
          },
          "execution_count": 55
        }
      ]
    },
    {
      "metadata": {
        "id": "qp8UaJrLHJs3",
        "colab_type": "code",
        "colab": {
          "autoexec": {
            "startup": false,
            "wait_interval": 0
          },
          "base_uri": "https://localhost:8080/",
          "height": 374
        },
        "outputId": "67fe6876-799a-4151-ea9e-4a94415a9f24",
        "executionInfo": {
          "status": "ok",
          "timestamp": 1531711226755,
          "user_tz": 300,
          "elapsed": 40133,
          "user": {
            "displayName": "andrea carolina parra lópez",
            "photoUrl": "//lh4.googleusercontent.com/-Kx8LhhSjJzM/AAAAAAAAAAI/AAAAAAAAANk/Y6doG3Y6XsI/s50-c-k-no/photo.jpg",
            "userId": "110040482315544751285"
          }
        }
      },
      "cell_type": "code",
      "source": [
        "# Entrenamos el modelo precargado con 10 épocas:\n",
        "\n",
        "modelFT.fit_generator(train_generator, epochs=10)\n"
      ],
      "execution_count": 68,
      "outputs": [
        {
          "output_type": "stream",
          "text": [
            "Epoch 1/10\n",
            "14/14 [==============================] - 4s 292ms/step - loss: 0.1597 - acc: 0.9395\n",
            "Epoch 2/10\n",
            "14/14 [==============================] - 4s 282ms/step - loss: 0.1614 - acc: 0.9372\n",
            "Epoch 3/10\n",
            "14/14 [==============================] - 4s 283ms/step - loss: 0.1722 - acc: 0.9372\n",
            "Epoch 4/10\n",
            "14/14 [==============================] - 4s 281ms/step - loss: 0.0938 - acc: 0.9686\n",
            "Epoch 5/10\n",
            "14/14 [==============================] - 4s 281ms/step - loss: 0.1081 - acc: 0.9608\n",
            "Epoch 6/10\n",
            "14/14 [==============================] - 4s 282ms/step - loss: 0.1896 - acc: 0.9417\n",
            "Epoch 7/10\n",
            "14/14 [==============================] - 4s 282ms/step - loss: 0.1738 - acc: 0.9305\n",
            "Epoch 8/10\n",
            "14/14 [==============================] - 4s 281ms/step - loss: 0.0650 - acc: 0.9731\n",
            "Epoch 9/10\n",
            "14/14 [==============================] - 4s 284ms/step - loss: 0.0760 - acc: 0.9731\n",
            "Epoch 10/10\n",
            "14/14 [==============================] - 4s 281ms/step - loss: 0.1919 - acc: 0.9271\n"
          ],
          "name": "stdout"
        },
        {
          "output_type": "execute_result",
          "data": {
            "text/plain": [
              "<keras.callbacks.History at 0x7f9d31eb94a8>"
            ]
          },
          "metadata": {
            "tags": []
          },
          "execution_count": 68
        }
      ]
    },
    {
      "metadata": {
        "id": "oTU2omFzJi9m",
        "colab_type": "code",
        "colab": {
          "autoexec": {
            "startup": false,
            "wait_interval": 0
          }
        }
      },
      "cell_type": "code",
      "source": [
        "#Se bloquean las primeras capas del modelo, las cuales son las del VGG16, para que no se modifiquen los pesos\n",
        "for layer in modelFT.layers[:18]:\n",
        "   layer.trainable = False\n",
        "\n",
        "#Para las capas finales se mantienen libres para optimizar los pesos\n",
        "for layer in modelFT.layers[18:]:\n",
        "   layer.trainable = True"
      ],
      "execution_count": 0,
      "outputs": []
    },
    {
      "metadata": {
        "id": "K11w8CQboM2P",
        "colab_type": "code",
        "colab": {
          "autoexec": {
            "startup": false,
            "wait_interval": 0
          },
          "base_uri": "https://localhost:8080/",
          "height": 1754
        },
        "outputId": "1e2b6411-0c4c-4483-f2af-725d51589fbf",
        "executionInfo": {
          "status": "ok",
          "timestamp": 1531711546111,
          "user_tz": 300,
          "elapsed": 312857,
          "user": {
            "displayName": "andrea carolina parra lópez",
            "photoUrl": "//lh4.googleusercontent.com/-Kx8LhhSjJzM/AAAAAAAAAAI/AAAAAAAAANk/Y6doG3Y6XsI/s50-c-k-no/photo.jpg",
            "userId": "110040482315544751285"
          }
        }
      },
      "cell_type": "code",
      "source": [
        "from keras.optimizers import SGD\n",
        "SGD(lr=0.0001, momentum=0.9)\n",
        "modelFT.compile(optimizer='rmsprop', loss='categorical_crossentropy', metrics=['accuracy'])\n",
        "\n",
        "\n",
        "#Con los nuevos datos obtenidos a partir del modelo preentrenado, entrenamos un modelo con 50 épocas:\n",
        "\n",
        "modelFT.fit_generator(train_generator, epochs=50, validation_data=validation_generator)"
      ],
      "execution_count": 70,
      "outputs": [
        {
          "output_type": "stream",
          "text": [
            "Epoch 1/50\n",
            "14/14 [==============================] - 7s 496ms/step - loss: 0.7535 - acc: 0.8632 - val_loss: 0.2258 - val_acc: 0.9222\n",
            "Epoch 2/50\n",
            "14/14 [==============================] - 6s 438ms/step - loss: 0.1128 - acc: 0.9596 - val_loss: 0.4231 - val_acc: 0.8722\n",
            "Epoch 3/50\n",
            "14/14 [==============================] - 6s 440ms/step - loss: 0.1249 - acc: 0.9574 - val_loss: 0.4228 - val_acc: 0.8833\n",
            "Epoch 4/50\n",
            "14/14 [==============================] - 6s 439ms/step - loss: 0.0873 - acc: 0.9619 - val_loss: 0.4156 - val_acc: 0.8722\n",
            "Epoch 5/50\n",
            "14/14 [==============================] - 6s 445ms/step - loss: 0.1358 - acc: 0.9395 - val_loss: 0.3944 - val_acc: 0.8778\n",
            "Epoch 6/50\n",
            "14/14 [==============================] - 6s 439ms/step - loss: 0.1177 - acc: 0.9552 - val_loss: 0.2282 - val_acc: 0.9167\n",
            "Epoch 7/50\n",
            "14/14 [==============================] - 6s 439ms/step - loss: 0.0292 - acc: 0.9933 - val_loss: 0.2494 - val_acc: 0.9278\n",
            "Epoch 8/50\n",
            "14/14 [==============================] - 6s 439ms/step - loss: 0.1198 - acc: 0.9574 - val_loss: 1.3174 - val_acc: 0.7111\n",
            "Epoch 9/50\n",
            "14/14 [==============================] - 6s 439ms/step - loss: 0.1300 - acc: 0.9686 - val_loss: 0.1979 - val_acc: 0.9333\n",
            "Epoch 10/50\n",
            "13/14 [==========================>...] - ETA: 0s - loss: 0.0104 - acc: 1.0000"
          ],
          "name": "stdout"
        },
        {
          "output_type": "stream",
          "text": [
            "\b\b\b\b\b\b\b\b\b\b\b\b\b\b\b\b\b\b\b\b\b\b\b\b\b\b\b\b\b\b\b\b\b\b\b\b\b\b\b\b\b\b\b\b\b\b\b\b\b\b\b\b\b\b\b\b\b\b\b\b\b\b\b\b\b\b\b\b\b\b\b\b\b\b\b\b\b\r14/14 [==============================] - 6s 440ms/step - loss: 0.0163 - acc: 0.9978 - val_loss: 0.4515 - val_acc: 0.8722\n",
            "Epoch 11/50\n",
            "14/14 [==============================] - 6s 454ms/step - loss: 0.1754 - acc: 0.9238 - val_loss: 0.3837 - val_acc: 0.8944\n",
            "Epoch 12/50\n",
            "14/14 [==============================] - 6s 440ms/step - loss: 0.0200 - acc: 0.9955 - val_loss: 0.1986 - val_acc: 0.9500\n",
            "Epoch 13/50\n",
            "14/14 [==============================] - 6s 446ms/step - loss: 0.0294 - acc: 0.9865 - val_loss: 1.1120 - val_acc: 0.7778\n",
            "Epoch 14/50\n",
            "14/14 [==============================] - 6s 446ms/step - loss: 0.0541 - acc: 0.9843 - val_loss: 0.3447 - val_acc: 0.8889\n",
            "Epoch 15/50\n",
            "14/14 [==============================] - 6s 448ms/step - loss: 0.1701 - acc: 0.9439 - val_loss: 0.2622 - val_acc: 0.9389\n",
            "Epoch 16/50\n",
            "14/14 [==============================] - 6s 440ms/step - loss: 0.2111 - acc: 0.9193 - val_loss: 0.7731 - val_acc: 0.8222\n",
            "Epoch 17/50\n",
            "14/14 [==============================] - 6s 441ms/step - loss: 0.1177 - acc: 0.9686 - val_loss: 0.1874 - val_acc: 0.9500\n",
            "Epoch 18/50\n",
            "14/14 [==============================] - 6s 446ms/step - loss: 0.0184 - acc: 0.9933 - val_loss: 0.1949 - val_acc: 0.9389\n",
            "Epoch 19/50\n",
            " 6/14 [===========>..................] - ETA: 2s - loss: 0.0178 - acc: 0.9948"
          ],
          "name": "stdout"
        },
        {
          "output_type": "stream",
          "text": [
            "14/14 [==============================] - 6s 439ms/step - loss: 0.1145 - acc: 0.9619 - val_loss: 0.5173 - val_acc: 0.8778\n",
            "Epoch 20/50\n",
            "14/14 [==============================] - 6s 448ms/step - loss: 0.1094 - acc: 0.9596 - val_loss: 0.2821 - val_acc: 0.9500\n",
            "Epoch 21/50\n",
            "14/14 [==============================] - 6s 447ms/step - loss: 0.0187 - acc: 0.9910 - val_loss: 0.3408 - val_acc: 0.9111\n",
            "Epoch 22/50\n",
            "14/14 [==============================] - 6s 433ms/step - loss: 0.0534 - acc: 0.9753 - val_loss: 0.2634 - val_acc: 0.9278\n",
            "Epoch 23/50\n",
            "14/14 [==============================] - 6s 439ms/step - loss: 0.1048 - acc: 0.9641 - val_loss: 0.7587 - val_acc: 0.8500\n",
            "Epoch 24/50\n",
            "14/14 [==============================] - 6s 447ms/step - loss: 0.1411 - acc: 0.9619 - val_loss: 0.1837 - val_acc: 0.9444\n",
            "Epoch 25/50\n",
            "14/14 [==============================] - 6s 441ms/step - loss: 0.0084 - acc: 1.0000 - val_loss: 0.2336 - val_acc: 0.9389\n",
            "Epoch 26/50\n",
            "14/14 [==============================] - 6s 447ms/step - loss: 0.0589 - acc: 0.9798 - val_loss: 0.3135 - val_acc: 0.9222\n",
            "Epoch 27/50\n",
            "14/14 [==============================] - 6s 435ms/step - loss: 0.0274 - acc: 0.9910 - val_loss: 0.2475 - val_acc: 0.9167\n",
            "Epoch 28/50\n",
            "13/14 [==========================>...] - ETA: 0s - loss: 0.0614 - acc: 0.9736"
          ],
          "name": "stdout"
        },
        {
          "output_type": "stream",
          "text": [
            "\b\b\b\b\b\b\b\b\b\b\b\b\b\b\b\b\b\b\b\b\b\b\b\b\b\b\b\b\b\b\b\b\b\b\b\b\b\b\b\b\b\b\b\b\b\b\b\b\b\b\b\b\b\b\b\b\b\b\b\b\b\b\b\b\b\b\b\b\b\b\b\b\b\b\b\b\b\r14/14 [==============================] - 6s 448ms/step - loss: 0.0796 - acc: 0.9664 - val_loss: 0.6126 - val_acc: 0.8611\n",
            "Epoch 29/50\n",
            "14/14 [==============================] - 6s 440ms/step - loss: 0.1663 - acc: 0.9507 - val_loss: 0.2222 - val_acc: 0.9444\n",
            "Epoch 30/50\n",
            "14/14 [==============================] - 6s 440ms/step - loss: 0.0430 - acc: 0.9821 - val_loss: 0.2044 - val_acc: 0.9389\n",
            "Epoch 31/50\n",
            "14/14 [==============================] - 6s 448ms/step - loss: 0.0328 - acc: 0.9865 - val_loss: 0.2117 - val_acc: 0.9611\n",
            "Epoch 32/50\n",
            "14/14 [==============================] - 6s 447ms/step - loss: 0.0087 - acc: 0.9978 - val_loss: 0.2054 - val_acc: 0.9611\n",
            "Epoch 33/50\n",
            "14/14 [==============================] - 6s 447ms/step - loss: 0.0042 - acc: 1.0000 - val_loss: 0.2859 - val_acc: 0.9167\n",
            "Epoch 34/50\n",
            "14/14 [==============================] - 6s 447ms/step - loss: 0.1116 - acc: 0.9462 - val_loss: 0.2787 - val_acc: 0.9444\n",
            "Epoch 35/50\n",
            "14/14 [==============================] - 6s 440ms/step - loss: 0.0317 - acc: 0.9888 - val_loss: 0.3154 - val_acc: 0.9278\n",
            "Epoch 36/50\n",
            "14/14 [==============================] - 6s 447ms/step - loss: 0.0941 - acc: 0.9753 - val_loss: 0.2384 - val_acc: 0.9444\n",
            "Epoch 37/50\n",
            " 6/14 [===========>..................] - ETA: 2s - loss: 0.0195 - acc: 0.9896"
          ],
          "name": "stdout"
        },
        {
          "output_type": "stream",
          "text": [
            "14/14 [==============================] - 6s 447ms/step - loss: 0.0224 - acc: 0.9910 - val_loss: 0.2653 - val_acc: 0.9556\n",
            "Epoch 38/50\n",
            "14/14 [==============================] - 6s 448ms/step - loss: 0.0602 - acc: 0.9753 - val_loss: 0.2732 - val_acc: 0.9500\n",
            "Epoch 39/50\n",
            "14/14 [==============================] - 6s 449ms/step - loss: 0.0077 - acc: 1.0000 - val_loss: 0.4493 - val_acc: 0.9167\n",
            "Epoch 40/50\n",
            "14/14 [==============================] - 6s 448ms/step - loss: 0.0106 - acc: 0.9955 - val_loss: 0.2724 - val_acc: 0.9389\n",
            "Epoch 41/50\n",
            "14/14 [==============================] - 6s 440ms/step - loss: 0.1502 - acc: 0.9552 - val_loss: 0.3569 - val_acc: 0.9333\n",
            "Epoch 42/50\n",
            "14/14 [==============================] - 6s 441ms/step - loss: 0.0225 - acc: 0.9910 - val_loss: 0.2489 - val_acc: 0.9500\n",
            "Epoch 43/50\n",
            "14/14 [==============================] - 6s 447ms/step - loss: 0.0122 - acc: 0.9933 - val_loss: 0.3902 - val_acc: 0.9222\n",
            "Epoch 44/50\n",
            "14/14 [==============================] - 6s 441ms/step - loss: 0.1939 - acc: 0.9552 - val_loss: 0.7099 - val_acc: 0.8722\n",
            "Epoch 45/50\n",
            "14/14 [==============================] - 6s 447ms/step - loss: 0.0330 - acc: 0.9933 - val_loss: 0.2204 - val_acc: 0.9611\n",
            "Epoch 46/50\n",
            "13/14 [==========================>...] - ETA: 0s - loss: 0.0038 - acc: 1.0000"
          ],
          "name": "stdout"
        },
        {
          "output_type": "stream",
          "text": [
            "14/14 [==============================] - 6s 448ms/step - loss: 0.0036 - acc: 1.0000 - val_loss: 0.2311 - val_acc: 0.9389\n",
            "Epoch 47/50\n",
            "14/14 [==============================] - 6s 454ms/step - loss: 0.0015 - acc: 1.0000 - val_loss: 0.2983 - val_acc: 0.9278\n",
            "Epoch 48/50\n",
            "14/14 [==============================] - 6s 446ms/step - loss: 0.1817 - acc: 0.9439 - val_loss: 0.3135 - val_acc: 0.9278\n",
            "Epoch 49/50\n",
            "14/14 [==============================] - 6s 446ms/step - loss: 0.0065 - acc: 0.9978 - val_loss: 0.2269 - val_acc: 0.9556\n",
            "Epoch 50/50\n",
            "14/14 [==============================] - 6s 446ms/step - loss: 0.0068 - acc: 0.9978 - val_loss: 0.2535 - val_acc: 0.9500\n"
          ],
          "name": "stdout"
        },
        {
          "output_type": "execute_result",
          "data": {
            "text/plain": [
              "<keras.callbacks.History at 0x7f9d2ba38668>"
            ]
          },
          "metadata": {
            "tags": []
          },
          "execution_count": 70
        }
      ]
    },
    {
      "metadata": {
        "id": "ziCVE7y_VPQa",
        "colab_type": "code",
        "colab": {
          "autoexec": {
            "startup": false,
            "wait_interval": 0
          },
          "base_uri": "https://localhost:8080/",
          "height": 34
        },
        "outputId": "046d3c4f-99ec-45f9-b340-d8ef7dac4b8e",
        "executionInfo": {
          "status": "ok",
          "timestamp": 1531711569219,
          "user_tz": 300,
          "elapsed": 3181,
          "user": {
            "displayName": "andrea carolina parra lópez",
            "photoUrl": "//lh4.googleusercontent.com/-Kx8LhhSjJzM/AAAAAAAAAAI/AAAAAAAAANk/Y6doG3Y6XsI/s50-c-k-no/photo.jpg",
            "userId": "110040482315544751285"
          }
        }
      },
      "cell_type": "code",
      "source": [
        "pred_FT = modelFT.predict_generator(validation_generator, verbose=1)"
      ],
      "execution_count": 71,
      "outputs": [
        {
          "output_type": "stream",
          "text": [
            "6/6 [==============================] - 2s 336ms/step\n"
          ],
          "name": "stdout"
        }
      ]
    },
    {
      "metadata": {
        "id": "6LZYwACJXKuJ",
        "colab_type": "code",
        "colab": {
          "autoexec": {
            "startup": false,
            "wait_interval": 0
          },
          "base_uri": "https://localhost:8080/",
          "height": 238
        },
        "outputId": "6f65c645-e4d5-452f-b94e-cbf3b315544f",
        "executionInfo": {
          "status": "ok",
          "timestamp": 1531711570951,
          "user_tz": 300,
          "elapsed": 496,
          "user": {
            "displayName": "andrea carolina parra lópez",
            "photoUrl": "//lh4.googleusercontent.com/-Kx8LhhSjJzM/AAAAAAAAAAI/AAAAAAAAANk/Y6doG3Y6XsI/s50-c-k-no/photo.jpg",
            "userId": "110040482315544751285"
          }
        }
      },
      "cell_type": "code",
      "source": [
        "#Estos son los resultados de la predicción, que son las probabilidades de que cada imagen pertenezca a alguna clase en particular\n",
        "pred_FT"
      ],
      "execution_count": 72,
      "outputs": [
        {
          "output_type": "execute_result",
          "data": {
            "text/plain": [
              "array([[1.00000000e+00, 5.02226616e-09, 1.74535646e-12, 6.49249865e-15,\n",
              "        6.33761765e-10, 5.86047315e-15],\n",
              "       [1.00000000e+00, 2.58413652e-13, 1.75641910e-17, 2.30910525e-16,\n",
              "        8.52927238e-17, 6.41616671e-17],\n",
              "       [9.99998808e-01, 2.85785191e-08, 1.60419434e-13, 3.01826814e-12,\n",
              "        7.02000003e-12, 1.17095908e-06],\n",
              "       ...,\n",
              "       [7.75730058e-08, 2.71099634e-06, 1.35574664e-16, 1.03032721e-10,\n",
              "        1.69562542e-09, 9.99997258e-01],\n",
              "       [1.20209545e-11, 8.65479160e-05, 1.02242270e-17, 3.95615513e-10,\n",
              "        6.54787910e-13, 9.99913454e-01],\n",
              "       [8.28944769e-13, 2.58736435e-07, 1.37511153e-22, 2.06383864e-14,\n",
              "        4.06970797e-16, 9.99999762e-01]], dtype=float32)"
            ]
          },
          "metadata": {
            "tags": []
          },
          "execution_count": 72
        }
      ]
    },
    {
      "metadata": {
        "id": "XhfMBVllSx-6",
        "colab_type": "text"
      },
      "cell_type": "markdown",
      "source": [
        "Evaluamos los resultados sobre el conjunto de datos de prueba:"
      ]
    },
    {
      "metadata": {
        "id": "AMM-mwl6YL-q",
        "colab_type": "code",
        "colab": {
          "autoexec": {
            "startup": false,
            "wait_interval": 0
          },
          "base_uri": "https://localhost:8080/",
          "height": 51
        },
        "outputId": "92de7131-7d9c-47e5-d619-cc2b49cbefd5",
        "executionInfo": {
          "status": "ok",
          "timestamp": 1531711572714,
          "user_tz": 300,
          "elapsed": 470,
          "user": {
            "displayName": "andrea carolina parra lópez",
            "photoUrl": "//lh4.googleusercontent.com/-Kx8LhhSjJzM/AAAAAAAAAAI/AAAAAAAAANk/Y6doG3Y6XsI/s50-c-k-no/photo.jpg",
            "userId": "110040482315544751285"
          }
        }
      },
      "cell_type": "code",
      "source": [
        "from sklearn.metrics import log_loss\n",
        "\n",
        "score = log_loss(val_labels, pred_FT)\n",
        "print('AUC: ',roc_auc_score(val_labels, pred_FT))\n",
        "print(score)"
      ],
      "execution_count": 73,
      "outputs": [
        {
          "output_type": "stream",
          "text": [
            "AUC:  0.9971851851851853\n",
            "0.25346226428481966\n"
          ],
          "name": "stdout"
        }
      ]
    },
    {
      "metadata": {
        "id": "Qk9ImTYbL5Tn",
        "colab_type": "text"
      },
      "cell_type": "markdown",
      "source": [
        "El accuracy que se obtuvo con este modelo es de 0.997, es decir que el 99.7% de las veces el modelo predice bien a que clase de pájaros pertenece cada imagen."
      ]
    },
    {
      "metadata": {
        "id": "w96rdkjgY_-A",
        "colab_type": "code",
        "colab": {
          "autoexec": {
            "startup": false,
            "wait_interval": 0
          },
          "base_uri": "https://localhost:8080/",
          "height": 136
        },
        "outputId": "622d1ae9-63d0-4dbf-909b-3fd850ca15b0",
        "executionInfo": {
          "status": "ok",
          "timestamp": 1531711577303,
          "user_tz": 300,
          "elapsed": 644,
          "user": {
            "displayName": "andrea carolina parra lópez",
            "photoUrl": "//lh4.googleusercontent.com/-Kx8LhhSjJzM/AAAAAAAAAAI/AAAAAAAAANk/Y6doG3Y6XsI/s50-c-k-no/photo.jpg",
            "userId": "110040482315544751285"
          }
        }
      },
      "cell_type": "code",
      "source": [
        "val_labels"
      ],
      "execution_count": 74,
      "outputs": [
        {
          "output_type": "execute_result",
          "data": {
            "text/plain": [
              "array([[1., 0., 0., 0., 0., 0.],\n",
              "       [1., 0., 0., 0., 0., 0.],\n",
              "       [1., 0., 0., 0., 0., 0.],\n",
              "       ...,\n",
              "       [0., 0., 0., 0., 0., 1.],\n",
              "       [0., 0., 0., 0., 0., 1.],\n",
              "       [0., 0., 0., 0., 0., 1.]], dtype=float32)"
            ]
          },
          "metadata": {
            "tags": []
          },
          "execution_count": 74
        }
      ]
    },
    {
      "metadata": {
        "id": "IyOQ3dOQZcIl",
        "colab_type": "code",
        "colab": {
          "autoexec": {
            "startup": false,
            "wait_interval": 0
          }
        }
      },
      "cell_type": "code",
      "source": [
        "#Se pasa la matriz de probabilidades a una lista de categorias con los nombres de los pájaros con una mayor probabilidad\n",
        "y_pred_FT = pd.DataFrame(list(pred_FT), columns=typebirds).idxmax(axis=1)"
      ],
      "execution_count": 0,
      "outputs": []
    },
    {
      "metadata": {
        "id": "cg8YQjUoZujA",
        "colab_type": "code",
        "colab": {
          "autoexec": {
            "startup": false,
            "wait_interval": 0
          },
          "base_uri": "https://localhost:8080/",
          "height": 119
        },
        "outputId": "90301948-471f-4bc1-cdbb-169dc9574cd4",
        "executionInfo": {
          "status": "ok",
          "timestamp": 1531711584705,
          "user_tz": 300,
          "elapsed": 485,
          "user": {
            "displayName": "andrea carolina parra lópez",
            "photoUrl": "//lh4.googleusercontent.com/-Kx8LhhSjJzM/AAAAAAAAAAI/AAAAAAAAANk/Y6doG3Y6XsI/s50-c-k-no/photo.jpg",
            "userId": "110040482315544751285"
          }
        }
      },
      "cell_type": "code",
      "source": [
        "confFT = confusion_matrix(y, y_pred_FT, labels=typebirds)\n",
        "confFT"
      ],
      "execution_count": 77,
      "outputs": [
        {
          "output_type": "execute_result",
          "data": {
            "text/plain": [
              "array([[30,  0,  0,  0,  0,  0],\n",
              "       [ 0, 29,  0,  1,  0,  0],\n",
              "       [ 0,  0, 29,  0,  0,  1],\n",
              "       [ 0,  0,  2, 27,  0,  1],\n",
              "       [ 0,  0,  0,  2, 27,  1],\n",
              "       [ 0,  1,  0,  0,  0, 29]])"
            ]
          },
          "metadata": {
            "tags": []
          },
          "execution_count": 77
        }
      ]
    },
    {
      "metadata": {
        "id": "2Fhaj26gCd1Y",
        "colab_type": "code",
        "colab": {
          "autoexec": {
            "startup": false,
            "wait_interval": 0
          },
          "base_uri": "https://localhost:8080/",
          "height": 534
        },
        "outputId": "63881f4b-9b37-426c-f3b7-107e36e423b2",
        "executionInfo": {
          "status": "ok",
          "timestamp": 1531711591824,
          "user_tz": 300,
          "elapsed": 882,
          "user": {
            "displayName": "andrea carolina parra lópez",
            "photoUrl": "//lh4.googleusercontent.com/-Kx8LhhSjJzM/AAAAAAAAAAI/AAAAAAAAANk/Y6doG3Y6XsI/s50-c-k-no/photo.jpg",
            "userId": "110040482315544751285"
          }
        }
      },
      "cell_type": "code",
      "source": [
        "plot_confusion_matrix(confFT, classes=fold_list,\n",
        "                     title='Confusion matrix - Fine tuning VGG16')"
      ],
      "execution_count": 78,
      "outputs": [
        {
          "output_type": "stream",
          "text": [
            "Confusion matrix, without normalization\n",
            "[[30  0  0  0  0  0]\n",
            " [ 0 29  0  1  0  0]\n",
            " [ 0  0 29  0  0  1]\n",
            " [ 0  0  2 27  0  1]\n",
            " [ 0  0  0  2 27  1]\n",
            " [ 0  1  0  0  0 29]]\n"
          ],
          "name": "stdout"
        },
        {
          "output_type": "display_data",
          "data": {
            "image/png": "[encoded data removed]",
            "text/plain": [
              "<matplotlib.figure.Figure at 0x7f9d545f9f98>"
            ]
          },
          "metadata": {
            "tags": []
          }
        }
      ]
    },
    {
      "metadata": {
        "id": "pawk4RwZEccG",
        "colab_type": "text"
      },
      "cell_type": "markdown",
      "source": [
        "El accuracy obtenido mediante Fine tuning indica que este modelo mejora la eficiencia de las clasificaciones de imagenes; de la misma manera la matriz de confusión nos muestra muy pocos casos en donde el modelo clasifica una imagen en una clase diferente a la real.\n",
        "\n",
        "Podemos concluir que el uso de modelos pre-entrenados es muy útil para encontrar soluciones a problemas propios, sin embargo es necesario modificarlos de acuerdo a las necesidades propias del ejercicio que se está desarrollando; y para obtener un mayor desempeño, modificarlos y re-entrenarlos."
      ]
    }
  ]
}